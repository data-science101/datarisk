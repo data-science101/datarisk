{
  "nbformat": 4,
  "nbformat_minor": 0,
  "metadata": {
    "colab": {
      "provenance": []
    },
    "kernelspec": {
      "name": "python3",
      "display_name": "Python 3"
    },
    "language_info": {
      "name": "python"
    },
    "accelerator": "GPU",
    "gpuClass": "standard"
  },
  "cells": [
    {
      "cell_type": "markdown",
      "source": [
        "# 4 - Modeling"
      ],
      "metadata": {
        "id": "6hrCu5K7uEKq"
      }
    },
    {
      "cell_type": "code",
      "source": [
        "from google.colab import drive\n",
        "\n",
        "drive.mount('/content/gdrive')"
      ],
      "metadata": {
        "colab": {
          "base_uri": "https://localhost:8080/"
        },
        "id": "_Tw8s3SCUUkr",
        "outputId": "717f96ff-b048-4303-8a74-39f7f2c05e1f"
      },
      "execution_count": 74,
      "outputs": [
        {
          "output_type": "stream",
          "name": "stdout",
          "text": [
            "Drive already mounted at /content/gdrive; to attempt to forcibly remount, call drive.mount(\"/content/gdrive\", force_remount=True).\n"
          ]
        }
      ]
    },
    {
      "cell_type": "code",
      "execution_count": 75,
      "metadata": {
        "id": "MkKh3PmP3zl8"
      },
      "outputs": [],
      "source": [
        "import pandas as pd\n",
        "import numpy as np"
      ]
    },
    {
      "cell_type": "code",
      "source": [
        "train = pd.read_csv('/content/gdrive/MyDrive/Colab Notebooks/Datarisk/data/processed_train.csv', low_memory=False)"
      ],
      "metadata": {
        "id": "HizsYdU9UTEc"
      },
      "execution_count": 76,
      "outputs": []
    },
    {
      "cell_type": "code",
      "source": [
        "train"
      ],
      "metadata": {
        "colab": {
          "base_uri": "https://localhost:8080/",
          "height": 488
        },
        "id": "lWhxQ-EjVrF2",
        "outputId": "80957cf4-7a5b-48e5-c95a-702071531655"
      },
      "execution_count": 77,
      "outputs": [
        {
          "output_type": "execute_result",
          "data": {
            "text/plain": [
              "                ID_CLIENTE   SAFRA_REF  VALOR_A_PAGAR  TAXA FLAG_PF  \\\n",
              "0      1661240395903230676  2018-09-01       35516.41  6.99      PJ   \n",
              "1      1661240395903230676  2018-09-01       17758.21  6.99      PJ   \n",
              "2      1661240395903230676  2018-09-01       17431.96  6.99      PJ   \n",
              "3      1661240395903230676  2018-09-01        1341.00  6.99      PJ   \n",
              "4      1661240395903230676  2018-09-01       21309.85  6.99      PJ   \n",
              "...                    ...         ...            ...   ...     ...   \n",
              "89546  3431426889924624821  2021-11-01       56879.10  6.99      PJ   \n",
              "89547  5288503299611498087  2021-11-01      156725.15  5.99      PJ   \n",
              "89548   957773253650890560  2021-11-01         266.08  5.99      PJ   \n",
              "89549  6094038865287329652  2021-11-01         301.49  8.99      PJ   \n",
              "89550  1592581784061157609  2021-12-01       23214.50  6.99      PJ   \n",
              "\n",
              "      SEGMENTO_INDUSTRIAL DOMINIO_EMAIL    PORTE  CEP_2_DIG  \\\n",
              "0                Serviços         YAHOO  PEQUENO         65   \n",
              "1                Serviços         YAHOO  PEQUENO         65   \n",
              "2                Serviços         YAHOO  PEQUENO         65   \n",
              "3                Serviços         YAHOO  PEQUENO         65   \n",
              "4                Serviços         YAHOO  PEQUENO         65   \n",
              "...                   ...           ...      ...        ...   \n",
              "89546            Serviços       HOTMAIL    MEDIO         69   \n",
              "89547            Comércio         YAHOO  PEQUENO         13   \n",
              "89548            Comércio         GMAIL    MEDIO         20   \n",
              "89549            Serviços         GMAIL   GRANDE         48   \n",
              "89550            Comércio     SEM_VALOR    MEDIO         90   \n",
              "\n",
              "       RENDA_MES_ANTERIOR  ...  DIASEMANA_EMISSAO  DIASEMANA_PAGAMENTO  \\\n",
              "0           290074.138889  ...             Friday             Thursday   \n",
              "1           290074.138889  ...             Sunday              Tuesday   \n",
              "2           290074.138889  ...             Sunday              Tuesday   \n",
              "3           290074.138889  ...           Thursday             Thursday   \n",
              "4           290074.138889  ...             Friday             Thursday   \n",
              "...                   ...  ...                ...                  ...   \n",
              "89546       227342.000000  ...             Friday               Monday   \n",
              "89547       352642.000000  ...             Sunday              Tuesday   \n",
              "89548       433808.000000  ...             Sunday               Monday   \n",
              "89549       532236.000000  ...             Sunday               Monday   \n",
              "89550       268024.000000  ...            Tuesday               Monday   \n",
              "\n",
              "       DIASEMANA_VENCIMENTO  DIASEMANA_CADASTRO  DIASEMANA_SAFRA_REF  \\\n",
              "0                  Thursday            Thursday             Saturday   \n",
              "1                    Monday            Thursday             Saturday   \n",
              "2                    Monday            Thursday             Saturday   \n",
              "3                    Friday            Thursday             Saturday   \n",
              "4                  Thursday            Thursday             Saturday   \n",
              "...                     ...                 ...                  ...   \n",
              "89546                Monday            Thursday               Monday   \n",
              "89547             Wednesday             Tuesday               Monday   \n",
              "89548                Monday              Monday               Monday   \n",
              "89549                Monday              Monday               Monday   \n",
              "89550                Monday             Tuesday            Wednesday   \n",
              "\n",
              "      ANO_EMISSAO_DOCUMENTO  ANO_PAGAMENTO  ANO_VENCIMENTO  ANO_CADASTRO  \\\n",
              "0                      2018           2018            2018          2013   \n",
              "1                      2018           2018            2018          2013   \n",
              "2                      2018           2018            2018          2013   \n",
              "3                      2018           2018            2018          2013   \n",
              "4                      2018           2018            2018          2013   \n",
              "...                     ...            ...             ...           ...   \n",
              "89546                  2021           2021            2021          2020   \n",
              "89547                  2021           2021            2021          2020   \n",
              "89548                  2021           2021            2021          2021   \n",
              "89549                  2021           2021            2021          2021   \n",
              "89550                  2021           2021            2021          2002   \n",
              "\n",
              "       ANO_SAFRA_REF  \n",
              "0               2018  \n",
              "1               2018  \n",
              "2               2018  \n",
              "3               2018  \n",
              "4               2018  \n",
              "...              ...  \n",
              "89546           2021  \n",
              "89547           2021  \n",
              "89548           2021  \n",
              "89549           2021  \n",
              "89550           2021  \n",
              "\n",
              "[89551 rows x 32 columns]"
            ],
            "text/html": [
              "\n",
              "  <div id=\"df-bc5946b1-7533-495a-8ecd-d77d3e9cab2c\">\n",
              "    <div class=\"colab-df-container\">\n",
              "      <div>\n",
              "<style scoped>\n",
              "    .dataframe tbody tr th:only-of-type {\n",
              "        vertical-align: middle;\n",
              "    }\n",
              "\n",
              "    .dataframe tbody tr th {\n",
              "        vertical-align: top;\n",
              "    }\n",
              "\n",
              "    .dataframe thead th {\n",
              "        text-align: right;\n",
              "    }\n",
              "</style>\n",
              "<table border=\"1\" class=\"dataframe\">\n",
              "  <thead>\n",
              "    <tr style=\"text-align: right;\">\n",
              "      <th></th>\n",
              "      <th>ID_CLIENTE</th>\n",
              "      <th>SAFRA_REF</th>\n",
              "      <th>VALOR_A_PAGAR</th>\n",
              "      <th>TAXA</th>\n",
              "      <th>FLAG_PF</th>\n",
              "      <th>SEGMENTO_INDUSTRIAL</th>\n",
              "      <th>DOMINIO_EMAIL</th>\n",
              "      <th>PORTE</th>\n",
              "      <th>CEP_2_DIG</th>\n",
              "      <th>RENDA_MES_ANTERIOR</th>\n",
              "      <th>...</th>\n",
              "      <th>DIASEMANA_EMISSAO</th>\n",
              "      <th>DIASEMANA_PAGAMENTO</th>\n",
              "      <th>DIASEMANA_VENCIMENTO</th>\n",
              "      <th>DIASEMANA_CADASTRO</th>\n",
              "      <th>DIASEMANA_SAFRA_REF</th>\n",
              "      <th>ANO_EMISSAO_DOCUMENTO</th>\n",
              "      <th>ANO_PAGAMENTO</th>\n",
              "      <th>ANO_VENCIMENTO</th>\n",
              "      <th>ANO_CADASTRO</th>\n",
              "      <th>ANO_SAFRA_REF</th>\n",
              "    </tr>\n",
              "  </thead>\n",
              "  <tbody>\n",
              "    <tr>\n",
              "      <th>0</th>\n",
              "      <td>1661240395903230676</td>\n",
              "      <td>2018-09-01</td>\n",
              "      <td>35516.41</td>\n",
              "      <td>6.99</td>\n",
              "      <td>PJ</td>\n",
              "      <td>Serviços</td>\n",
              "      <td>YAHOO</td>\n",
              "      <td>PEQUENO</td>\n",
              "      <td>65</td>\n",
              "      <td>290074.138889</td>\n",
              "      <td>...</td>\n",
              "      <td>Friday</td>\n",
              "      <td>Thursday</td>\n",
              "      <td>Thursday</td>\n",
              "      <td>Thursday</td>\n",
              "      <td>Saturday</td>\n",
              "      <td>2018</td>\n",
              "      <td>2018</td>\n",
              "      <td>2018</td>\n",
              "      <td>2013</td>\n",
              "      <td>2018</td>\n",
              "    </tr>\n",
              "    <tr>\n",
              "      <th>1</th>\n",
              "      <td>1661240395903230676</td>\n",
              "      <td>2018-09-01</td>\n",
              "      <td>17758.21</td>\n",
              "      <td>6.99</td>\n",
              "      <td>PJ</td>\n",
              "      <td>Serviços</td>\n",
              "      <td>YAHOO</td>\n",
              "      <td>PEQUENO</td>\n",
              "      <td>65</td>\n",
              "      <td>290074.138889</td>\n",
              "      <td>...</td>\n",
              "      <td>Sunday</td>\n",
              "      <td>Tuesday</td>\n",
              "      <td>Monday</td>\n",
              "      <td>Thursday</td>\n",
              "      <td>Saturday</td>\n",
              "      <td>2018</td>\n",
              "      <td>2018</td>\n",
              "      <td>2018</td>\n",
              "      <td>2013</td>\n",
              "      <td>2018</td>\n",
              "    </tr>\n",
              "    <tr>\n",
              "      <th>2</th>\n",
              "      <td>1661240395903230676</td>\n",
              "      <td>2018-09-01</td>\n",
              "      <td>17431.96</td>\n",
              "      <td>6.99</td>\n",
              "      <td>PJ</td>\n",
              "      <td>Serviços</td>\n",
              "      <td>YAHOO</td>\n",
              "      <td>PEQUENO</td>\n",
              "      <td>65</td>\n",
              "      <td>290074.138889</td>\n",
              "      <td>...</td>\n",
              "      <td>Sunday</td>\n",
              "      <td>Tuesday</td>\n",
              "      <td>Monday</td>\n",
              "      <td>Thursday</td>\n",
              "      <td>Saturday</td>\n",
              "      <td>2018</td>\n",
              "      <td>2018</td>\n",
              "      <td>2018</td>\n",
              "      <td>2013</td>\n",
              "      <td>2018</td>\n",
              "    </tr>\n",
              "    <tr>\n",
              "      <th>3</th>\n",
              "      <td>1661240395903230676</td>\n",
              "      <td>2018-09-01</td>\n",
              "      <td>1341.00</td>\n",
              "      <td>6.99</td>\n",
              "      <td>PJ</td>\n",
              "      <td>Serviços</td>\n",
              "      <td>YAHOO</td>\n",
              "      <td>PEQUENO</td>\n",
              "      <td>65</td>\n",
              "      <td>290074.138889</td>\n",
              "      <td>...</td>\n",
              "      <td>Thursday</td>\n",
              "      <td>Thursday</td>\n",
              "      <td>Friday</td>\n",
              "      <td>Thursday</td>\n",
              "      <td>Saturday</td>\n",
              "      <td>2018</td>\n",
              "      <td>2018</td>\n",
              "      <td>2018</td>\n",
              "      <td>2013</td>\n",
              "      <td>2018</td>\n",
              "    </tr>\n",
              "    <tr>\n",
              "      <th>4</th>\n",
              "      <td>1661240395903230676</td>\n",
              "      <td>2018-09-01</td>\n",
              "      <td>21309.85</td>\n",
              "      <td>6.99</td>\n",
              "      <td>PJ</td>\n",
              "      <td>Serviços</td>\n",
              "      <td>YAHOO</td>\n",
              "      <td>PEQUENO</td>\n",
              "      <td>65</td>\n",
              "      <td>290074.138889</td>\n",
              "      <td>...</td>\n",
              "      <td>Friday</td>\n",
              "      <td>Thursday</td>\n",
              "      <td>Thursday</td>\n",
              "      <td>Thursday</td>\n",
              "      <td>Saturday</td>\n",
              "      <td>2018</td>\n",
              "      <td>2018</td>\n",
              "      <td>2018</td>\n",
              "      <td>2013</td>\n",
              "      <td>2018</td>\n",
              "    </tr>\n",
              "    <tr>\n",
              "      <th>...</th>\n",
              "      <td>...</td>\n",
              "      <td>...</td>\n",
              "      <td>...</td>\n",
              "      <td>...</td>\n",
              "      <td>...</td>\n",
              "      <td>...</td>\n",
              "      <td>...</td>\n",
              "      <td>...</td>\n",
              "      <td>...</td>\n",
              "      <td>...</td>\n",
              "      <td>...</td>\n",
              "      <td>...</td>\n",
              "      <td>...</td>\n",
              "      <td>...</td>\n",
              "      <td>...</td>\n",
              "      <td>...</td>\n",
              "      <td>...</td>\n",
              "      <td>...</td>\n",
              "      <td>...</td>\n",
              "      <td>...</td>\n",
              "      <td>...</td>\n",
              "    </tr>\n",
              "    <tr>\n",
              "      <th>89546</th>\n",
              "      <td>3431426889924624821</td>\n",
              "      <td>2021-11-01</td>\n",
              "      <td>56879.10</td>\n",
              "      <td>6.99</td>\n",
              "      <td>PJ</td>\n",
              "      <td>Serviços</td>\n",
              "      <td>HOTMAIL</td>\n",
              "      <td>MEDIO</td>\n",
              "      <td>69</td>\n",
              "      <td>227342.000000</td>\n",
              "      <td>...</td>\n",
              "      <td>Friday</td>\n",
              "      <td>Monday</td>\n",
              "      <td>Monday</td>\n",
              "      <td>Thursday</td>\n",
              "      <td>Monday</td>\n",
              "      <td>2021</td>\n",
              "      <td>2021</td>\n",
              "      <td>2021</td>\n",
              "      <td>2020</td>\n",
              "      <td>2021</td>\n",
              "    </tr>\n",
              "    <tr>\n",
              "      <th>89547</th>\n",
              "      <td>5288503299611498087</td>\n",
              "      <td>2021-11-01</td>\n",
              "      <td>156725.15</td>\n",
              "      <td>5.99</td>\n",
              "      <td>PJ</td>\n",
              "      <td>Comércio</td>\n",
              "      <td>YAHOO</td>\n",
              "      <td>PEQUENO</td>\n",
              "      <td>13</td>\n",
              "      <td>352642.000000</td>\n",
              "      <td>...</td>\n",
              "      <td>Sunday</td>\n",
              "      <td>Tuesday</td>\n",
              "      <td>Wednesday</td>\n",
              "      <td>Tuesday</td>\n",
              "      <td>Monday</td>\n",
              "      <td>2021</td>\n",
              "      <td>2021</td>\n",
              "      <td>2021</td>\n",
              "      <td>2020</td>\n",
              "      <td>2021</td>\n",
              "    </tr>\n",
              "    <tr>\n",
              "      <th>89548</th>\n",
              "      <td>957773253650890560</td>\n",
              "      <td>2021-11-01</td>\n",
              "      <td>266.08</td>\n",
              "      <td>5.99</td>\n",
              "      <td>PJ</td>\n",
              "      <td>Comércio</td>\n",
              "      <td>GMAIL</td>\n",
              "      <td>MEDIO</td>\n",
              "      <td>20</td>\n",
              "      <td>433808.000000</td>\n",
              "      <td>...</td>\n",
              "      <td>Sunday</td>\n",
              "      <td>Monday</td>\n",
              "      <td>Monday</td>\n",
              "      <td>Monday</td>\n",
              "      <td>Monday</td>\n",
              "      <td>2021</td>\n",
              "      <td>2021</td>\n",
              "      <td>2021</td>\n",
              "      <td>2021</td>\n",
              "      <td>2021</td>\n",
              "    </tr>\n",
              "    <tr>\n",
              "      <th>89549</th>\n",
              "      <td>6094038865287329652</td>\n",
              "      <td>2021-11-01</td>\n",
              "      <td>301.49</td>\n",
              "      <td>8.99</td>\n",
              "      <td>PJ</td>\n",
              "      <td>Serviços</td>\n",
              "      <td>GMAIL</td>\n",
              "      <td>GRANDE</td>\n",
              "      <td>48</td>\n",
              "      <td>532236.000000</td>\n",
              "      <td>...</td>\n",
              "      <td>Sunday</td>\n",
              "      <td>Monday</td>\n",
              "      <td>Monday</td>\n",
              "      <td>Monday</td>\n",
              "      <td>Monday</td>\n",
              "      <td>2021</td>\n",
              "      <td>2021</td>\n",
              "      <td>2021</td>\n",
              "      <td>2021</td>\n",
              "      <td>2021</td>\n",
              "    </tr>\n",
              "    <tr>\n",
              "      <th>89550</th>\n",
              "      <td>1592581784061157609</td>\n",
              "      <td>2021-12-01</td>\n",
              "      <td>23214.50</td>\n",
              "      <td>6.99</td>\n",
              "      <td>PJ</td>\n",
              "      <td>Comércio</td>\n",
              "      <td>SEM_VALOR</td>\n",
              "      <td>MEDIO</td>\n",
              "      <td>90</td>\n",
              "      <td>268024.000000</td>\n",
              "      <td>...</td>\n",
              "      <td>Tuesday</td>\n",
              "      <td>Monday</td>\n",
              "      <td>Monday</td>\n",
              "      <td>Tuesday</td>\n",
              "      <td>Wednesday</td>\n",
              "      <td>2021</td>\n",
              "      <td>2021</td>\n",
              "      <td>2021</td>\n",
              "      <td>2002</td>\n",
              "      <td>2021</td>\n",
              "    </tr>\n",
              "  </tbody>\n",
              "</table>\n",
              "<p>89551 rows × 32 columns</p>\n",
              "</div>\n",
              "      <button class=\"colab-df-convert\" onclick=\"convertToInteractive('df-bc5946b1-7533-495a-8ecd-d77d3e9cab2c')\"\n",
              "              title=\"Convert this dataframe to an interactive table.\"\n",
              "              style=\"display:none;\">\n",
              "        \n",
              "  <svg xmlns=\"http://www.w3.org/2000/svg\" height=\"24px\"viewBox=\"0 0 24 24\"\n",
              "       width=\"24px\">\n",
              "    <path d=\"M0 0h24v24H0V0z\" fill=\"none\"/>\n",
              "    <path d=\"M18.56 5.44l.94 2.06.94-2.06 2.06-.94-2.06-.94-.94-2.06-.94 2.06-2.06.94zm-11 1L8.5 8.5l.94-2.06 2.06-.94-2.06-.94L8.5 2.5l-.94 2.06-2.06.94zm10 10l.94 2.06.94-2.06 2.06-.94-2.06-.94-.94-2.06-.94 2.06-2.06.94z\"/><path d=\"M17.41 7.96l-1.37-1.37c-.4-.4-.92-.59-1.43-.59-.52 0-1.04.2-1.43.59L10.3 9.45l-7.72 7.72c-.78.78-.78 2.05 0 2.83L4 21.41c.39.39.9.59 1.41.59.51 0 1.02-.2 1.41-.59l7.78-7.78 2.81-2.81c.8-.78.8-2.07 0-2.86zM5.41 20L4 18.59l7.72-7.72 1.47 1.35L5.41 20z\"/>\n",
              "  </svg>\n",
              "      </button>\n",
              "      \n",
              "  <style>\n",
              "    .colab-df-container {\n",
              "      display:flex;\n",
              "      flex-wrap:wrap;\n",
              "      gap: 12px;\n",
              "    }\n",
              "\n",
              "    .colab-df-convert {\n",
              "      background-color: #E8F0FE;\n",
              "      border: none;\n",
              "      border-radius: 50%;\n",
              "      cursor: pointer;\n",
              "      display: none;\n",
              "      fill: #1967D2;\n",
              "      height: 32px;\n",
              "      padding: 0 0 0 0;\n",
              "      width: 32px;\n",
              "    }\n",
              "\n",
              "    .colab-df-convert:hover {\n",
              "      background-color: #E2EBFA;\n",
              "      box-shadow: 0px 1px 2px rgba(60, 64, 67, 0.3), 0px 1px 3px 1px rgba(60, 64, 67, 0.15);\n",
              "      fill: #174EA6;\n",
              "    }\n",
              "\n",
              "    [theme=dark] .colab-df-convert {\n",
              "      background-color: #3B4455;\n",
              "      fill: #D2E3FC;\n",
              "    }\n",
              "\n",
              "    [theme=dark] .colab-df-convert:hover {\n",
              "      background-color: #434B5C;\n",
              "      box-shadow: 0px 1px 3px 1px rgba(0, 0, 0, 0.15);\n",
              "      filter: drop-shadow(0px 1px 2px rgba(0, 0, 0, 0.3));\n",
              "      fill: #FFFFFF;\n",
              "    }\n",
              "  </style>\n",
              "\n",
              "      <script>\n",
              "        const buttonEl =\n",
              "          document.querySelector('#df-bc5946b1-7533-495a-8ecd-d77d3e9cab2c button.colab-df-convert');\n",
              "        buttonEl.style.display =\n",
              "          google.colab.kernel.accessAllowed ? 'block' : 'none';\n",
              "\n",
              "        async function convertToInteractive(key) {\n",
              "          const element = document.querySelector('#df-bc5946b1-7533-495a-8ecd-d77d3e9cab2c');\n",
              "          const dataTable =\n",
              "            await google.colab.kernel.invokeFunction('convertToInteractive',\n",
              "                                                     [key], {});\n",
              "          if (!dataTable) return;\n",
              "\n",
              "          const docLinkHtml = 'Like what you see? Visit the ' +\n",
              "            '<a target=\"_blank\" href=https://colab.research.google.com/notebooks/data_table.ipynb>data table notebook</a>'\n",
              "            + ' to learn more about interactive tables.';\n",
              "          element.innerHTML = '';\n",
              "          dataTable['output_type'] = 'display_data';\n",
              "          await google.colab.output.renderOutput(dataTable, element);\n",
              "          const docLink = document.createElement('div');\n",
              "          docLink.innerHTML = docLinkHtml;\n",
              "          element.appendChild(docLink);\n",
              "        }\n",
              "      </script>\n",
              "    </div>\n",
              "  </div>\n",
              "  "
            ]
          },
          "metadata": {},
          "execution_count": 77
        }
      ]
    },
    {
      "cell_type": "code",
      "source": [
        "# Criando X e y sem variáveis que possuem relação direta com DATA_PAGAMENTO\n",
        "X = train.drop(columns={'CEP_2_DIG','VALOR_A_PAGAR','INADIMPLENTE', 'PAGTO_DIFF_EMISSAO','PAGTO_DIFF_VENC','DIASEMANA_PAGAMENTO','ANO_PAGAMENTO', 'MES_PAGAMENTO'})\n",
        "y = train['INADIMPLENTE']"
      ],
      "metadata": {
        "id": "XOXGsF4wUTSw"
      },
      "execution_count": 78,
      "outputs": []
    },
    {
      "cell_type": "code",
      "source": [
        "X.info()"
      ],
      "metadata": {
        "colab": {
          "base_uri": "https://localhost:8080/"
        },
        "id": "hfp6mxTDtDcs",
        "outputId": "dd81eb6e-c84b-4d65-f5e0-45b8b1147e27"
      },
      "execution_count": 79,
      "outputs": [
        {
          "output_type": "stream",
          "name": "stdout",
          "text": [
            "<class 'pandas.core.frame.DataFrame'>\n",
            "RangeIndex: 89551 entries, 0 to 89550\n",
            "Data columns (total 24 columns):\n",
            " #   Column                 Non-Null Count  Dtype  \n",
            "---  ------                 --------------  -----  \n",
            " 0   ID_CLIENTE             89551 non-null  int64  \n",
            " 1   SAFRA_REF              89551 non-null  object \n",
            " 2   TAXA                   89551 non-null  float64\n",
            " 3   FLAG_PF                89551 non-null  object \n",
            " 4   SEGMENTO_INDUSTRIAL    89551 non-null  object \n",
            " 5   DOMINIO_EMAIL          89551 non-null  object \n",
            " 6   PORTE                  89551 non-null  object \n",
            " 7   RENDA_MES_ANTERIOR     89551 non-null  float64\n",
            " 8   NO_FUNCIONARIOS        89551 non-null  float64\n",
            " 9   PRAZO                  89551 non-null  int64  \n",
            " 10  ZONA_POSTAL            89551 non-null  object \n",
            " 11  LIFETIME_CLIENTE_DIAS  89551 non-null  int64  \n",
            " 12  MES_EMISSAO_DOCUMENTO  89551 non-null  int64  \n",
            " 13  MES_VENCIMENTO         89551 non-null  int64  \n",
            " 14  MES_CADASTRO           89551 non-null  int64  \n",
            " 15  MES_SAFRA_REF          89551 non-null  int64  \n",
            " 16  DIASEMANA_EMISSAO      89551 non-null  object \n",
            " 17  DIASEMANA_VENCIMENTO   89551 non-null  object \n",
            " 18  DIASEMANA_CADASTRO     89551 non-null  object \n",
            " 19  DIASEMANA_SAFRA_REF    89551 non-null  object \n",
            " 20  ANO_EMISSAO_DOCUMENTO  89551 non-null  int64  \n",
            " 21  ANO_VENCIMENTO         89551 non-null  int64  \n",
            " 22  ANO_CADASTRO           89551 non-null  int64  \n",
            " 23  ANO_SAFRA_REF          89551 non-null  int64  \n",
            "dtypes: float64(3), int64(11), object(10)\n",
            "memory usage: 16.4+ MB\n"
          ]
        }
      ]
    },
    {
      "cell_type": "markdown",
      "source": [
        "## 4.1 Criando Pipeline para Feature Importance"
      ],
      "metadata": {
        "id": "o0AyFJUQUqn_"
      }
    },
    {
      "cell_type": "code",
      "source": [
        "from sklearn.pipeline import Pipeline\n",
        "from sklearn.compose import ColumnTransformer\n",
        "from sklearn.preprocessing import OrdinalEncoder, MinMaxScaler, StandardScaler\n",
        "\n",
        "numeric_values = list(X.select_dtypes(exclude=['object']).columns)\n",
        "string_values = list(X.select_dtypes(include=['object']).columns)\n",
        "\n",
        "preprocessor = ColumnTransformer(transformers=[  \n",
        "    ('cat', OrdinalEncoder(), string_values),\n",
        "    ('num', MinMaxScaler(), numeric_values)\n",
        "])\n"
      ],
      "metadata": {
        "id": "qYTbJy43UjuG"
      },
      "execution_count": 80,
      "outputs": []
    },
    {
      "cell_type": "markdown",
      "source": [
        "## 4.2 Feature importance"
      ],
      "metadata": {
        "id": "qxZ560F0UlrQ"
      }
    },
    {
      "cell_type": "code",
      "source": [
        "from sklearn.ensemble import RandomForestClassifier\n",
        "from sklearn.pipeline import Pipeline\n",
        "\n",
        "rfc = RandomForestClassifier(random_state=22)\n",
        "\n",
        "pipe_fi = Pipeline(steps=[('preprocessor', preprocessor), ('clf', rfc)])\n",
        "pipe_fi.fit(X, y)\n",
        "\n",
        "feature_importances = rfc.feature_importances_\n",
        "\n",
        "# Criando lista de features para printar\n",
        "feature_names = X.columns.tolist()\n",
        "\n",
        "# Pareando nome de features com importância e fazendo sort\n",
        "sorted_features = sorted(zip(feature_names, feature_importances), key=lambda x: x[1], reverse=True)\n",
        "\n",
        "# Printando features e sua importância\n",
        "for name, importance in sorted_features:\n",
        "    print(f\"{name}: {importance}\")\n"
      ],
      "metadata": {
        "id": "Dg__o_dgUnvP",
        "colab": {
          "base_uri": "https://localhost:8080/"
        },
        "outputId": "c86e9b85-2674-4655-e8dc-37b428ce82e3"
      },
      "execution_count": 81,
      "outputs": [
        {
          "output_type": "stream",
          "name": "stdout",
          "text": [
            "MES_SAFRA_REF: 0.12640064810610652\n",
            "MES_CADASTRO: 0.12300306923596732\n",
            "MES_EMISSAO_DOCUMENTO: 0.10655348543340219\n",
            "MES_VENCIMENTO: 0.059956547734632416\n",
            "ZONA_POSTAL: 0.05422810642040342\n",
            "ID_CLIENTE: 0.04747058581975358\n",
            "RENDA_MES_ANTERIOR: 0.04440498223736957\n",
            "DIASEMANA_EMISSAO: 0.041610477655126626\n",
            "PORTE: 0.041235320011547616\n",
            "DIASEMANA_VENCIMENTO: 0.04081470697242074\n",
            "DOMINIO_EMAIL: 0.03476092255920726\n",
            "DIASEMANA_CADASTRO: 0.03337888290408662\n",
            "DIASEMANA_SAFRA_REF: 0.032175568056838716\n",
            "ANO_CADASTRO: 0.02866112538612856\n",
            "LIFETIME_CLIENTE_DIAS: 0.02723124307430479\n",
            "PRAZO: 0.02713492501037245\n",
            "SEGMENTO_INDUSTRIAL: 0.026764482773723154\n",
            "FLAG_PF: 0.02291030754746226\n",
            "NO_FUNCIONARIOS: 0.019949548261289238\n",
            "TAXA: 0.0164609316595489\n",
            "ANO_VENCIMENTO: 0.015556080824866559\n",
            "ANO_SAFRA_REF: 0.014397846713930785\n",
            "ANO_EMISSAO_DOCUMENTO: 0.014254597067137338\n",
            "SAFRA_REF: 0.0006856085343733751\n"
          ]
        }
      ]
    },
    {
      "cell_type": "markdown",
      "source": [
        "## 4.3 Cross-Validation de modelos\n",
        "\n",
        "Realizarei um loop em diversos modelos e fazendo over-sampling para comparar sua performance também com a aplicação de dois scalers: MinMaxScaler e StandardScaler para identificar qual se adequa melhor."
      ],
      "metadata": {
        "id": "WQ_ArD9pWdLS"
      }
    },
    {
      "cell_type": "code",
      "source": [
        "pip install category-encoders"
      ],
      "metadata": {
        "colab": {
          "base_uri": "https://localhost:8080/"
        },
        "id": "fZj2AkC9LlnB",
        "outputId": "a9b886a6-d86c-4cdc-afd7-828403e63f70"
      },
      "execution_count": 82,
      "outputs": [
        {
          "output_type": "stream",
          "name": "stdout",
          "text": [
            "Looking in indexes: https://pypi.org/simple, https://us-python.pkg.dev/colab-wheels/public/simple/\n",
            "Requirement already satisfied: category-encoders in /usr/local/lib/python3.9/dist-packages (2.6.0)\n",
            "Requirement already satisfied: patsy>=0.5.1 in /usr/local/lib/python3.9/dist-packages (from category-encoders) (0.5.3)\n",
            "Requirement already satisfied: numpy>=1.14.0 in /usr/local/lib/python3.9/dist-packages (from category-encoders) (1.22.4)\n",
            "Requirement already satisfied: pandas>=1.0.5 in /usr/local/lib/python3.9/dist-packages (from category-encoders) (1.5.3)\n",
            "Requirement already satisfied: scipy>=1.0.0 in /usr/local/lib/python3.9/dist-packages (from category-encoders) (1.10.1)\n",
            "Requirement already satisfied: statsmodels>=0.9.0 in /usr/local/lib/python3.9/dist-packages (from category-encoders) (0.13.5)\n",
            "Requirement already satisfied: scikit-learn>=0.20.0 in /usr/local/lib/python3.9/dist-packages (from category-encoders) (1.2.2)\n",
            "Requirement already satisfied: python-dateutil>=2.8.1 in /usr/local/lib/python3.9/dist-packages (from pandas>=1.0.5->category-encoders) (2.8.2)\n",
            "Requirement already satisfied: pytz>=2020.1 in /usr/local/lib/python3.9/dist-packages (from pandas>=1.0.5->category-encoders) (2022.7.1)\n",
            "Requirement already satisfied: six in /usr/local/lib/python3.9/dist-packages (from patsy>=0.5.1->category-encoders) (1.16.0)\n",
            "Requirement already satisfied: joblib>=1.1.1 in /usr/local/lib/python3.9/dist-packages (from scikit-learn>=0.20.0->category-encoders) (1.2.0)\n",
            "Requirement already satisfied: threadpoolctl>=2.0.0 in /usr/local/lib/python3.9/dist-packages (from scikit-learn>=0.20.0->category-encoders) (3.1.0)\n",
            "Requirement already satisfied: packaging>=21.3 in /usr/local/lib/python3.9/dist-packages (from statsmodels>=0.9.0->category-encoders) (23.1)\n"
          ]
        }
      ]
    },
    {
      "cell_type": "code",
      "source": [
        "pip install xgboost --upgrade"
      ],
      "metadata": {
        "colab": {
          "base_uri": "https://localhost:8080/"
        },
        "id": "w3F_ry7DD1yB",
        "outputId": "c2061b1c-490a-4df1-c412-75123fce01b9"
      },
      "execution_count": 83,
      "outputs": [
        {
          "output_type": "stream",
          "name": "stdout",
          "text": [
            "Looking in indexes: https://pypi.org/simple, https://us-python.pkg.dev/colab-wheels/public/simple/\n",
            "Requirement already satisfied: xgboost in /usr/local/lib/python3.9/dist-packages (1.7.5)\n",
            "Requirement already satisfied: numpy in /usr/local/lib/python3.9/dist-packages (from xgboost) (1.22.4)\n",
            "Requirement already satisfied: scipy in /usr/local/lib/python3.9/dist-packages (from xgboost) (1.10.1)\n"
          ]
        }
      ]
    },
    {
      "cell_type": "code",
      "source": [
        "from sklearn.model_selection import cross_val_score, StratifiedKFold\n",
        "from sklearn.pipeline import Pipeline\n",
        "from imblearn.pipeline import make_pipeline\n",
        "from sklearn.metrics import accuracy_score, log_loss\n",
        "from xgboost import XGBClassifier\n",
        "from sklearn.ensemble import (\n",
        "    RandomForestClassifier,\n",
        "    GradientBoostingClassifier,\n",
        "    ExtraTreesClassifier\n",
        ")\n",
        "from imblearn.over_sampling import SMOTE\n",
        "from category_encoders import TargetEncoder\n",
        "from sklearn.preprocessing import RobustScaler\n",
        "from sklearn.naive_bayes import GaussianNB\n",
        "from sklearn.discriminant_analysis import QuadraticDiscriminantAnalysis"
      ],
      "metadata": {
        "id": "uv8a47KWDFza"
      },
      "execution_count": 84,
      "outputs": []
    },
    {
      "cell_type": "code",
      "source": [
        "rs = 22\n",
        "\n",
        "cl_models = [\n",
        "    QuadraticDiscriminantAnalysis(),\n",
        "    GaussianNB(),\n",
        "    XGBClassifier(random_state=rs),\n",
        "    RandomForestClassifier(random_state=rs),\n",
        "    GradientBoostingClassifier(random_state=rs),\n",
        "    ExtraTreesClassifier(random_state=rs),\n",
        "]\n",
        "\n",
        "scalers = [\n",
        "    StandardScaler(),\n",
        "    MinMaxScaler(),\n",
        "    RobustScaler()\n",
        "]\n"
      ],
      "metadata": {
        "id": "n2BaUJf4DG1k"
      },
      "execution_count": 85,
      "outputs": []
    },
    {
      "cell_type": "code",
      "source": [
        "for model in cl_models:\n",
        "  for scaler in scalers:\n",
        "    pipe = make_pipeline(\n",
        "        TargetEncoder(),\n",
        "        scaler,\n",
        "        SMOTE(n_jobs=-1, random_state=rs),\n",
        "        model\n",
        "    )\n",
        "\n",
        "    '''5-Fold Cross-Validation usando precision como \n",
        "    métrica de comparação pois o dataset é desbalanceado'''\n",
        "\n",
        "    skf = StratifiedKFold(n_splits=5, random_state=1, shuffle=True)\n",
        "\n",
        "    scores = cross_val_score(pipe, X, y, cv=skf, scoring='precision', n_jobs=-1)\n",
        "\n",
        "    # Scores\n",
        "    print(f'Model: {model}. Scaler: {scaler}')\n",
        "    print('Cross-validation scores:', scores)\n",
        "    print('Mean cross-validation score:', scores.mean())\n",
        "    print('-----' * 10)"
      ],
      "metadata": {
        "colab": {
          "base_uri": "https://localhost:8080/"
        },
        "id": "P9eCBt7cYYLb",
        "outputId": "cb3681e2-09c2-4543-b228-2519a2b4120e"
      },
      "execution_count": 87,
      "outputs": [
        {
          "output_type": "stream",
          "name": "stdout",
          "text": [
            "Model: QuadraticDiscriminantAnalysis(). Scaler: StandardScaler()\n",
            "Cross-validation scores: [0.27975048 0.27407076 0.27117031 0.28781413 0.27316141]\n",
            "Mean cross-validation score: 0.27719341882889176\n",
            "--------------------------------------------------\n",
            "Model: QuadraticDiscriminantAnalysis(). Scaler: MinMaxScaler()\n",
            "Cross-validation scores: [0.28187919 0.27592345 0.27398568 0.29140959 0.27767176]\n",
            "Mean cross-validation score: 0.28017393422623826\n",
            "--------------------------------------------------\n",
            "Model: QuadraticDiscriminantAnalysis(). Scaler: RobustScaler()\n",
            "Cross-validation scores: [0.27459207 0.27018769 0.2674954  0.2854512  0.27158189]\n",
            "Mean cross-validation score: 0.27386165061978485\n",
            "--------------------------------------------------\n",
            "Model: GaussianNB(). Scaler: StandardScaler()\n",
            "Cross-validation scores: [0.23350923 0.21917263 0.20468068 0.22612245 0.22061329]\n",
            "Mean cross-validation score: 0.22081965744708146\n",
            "--------------------------------------------------\n",
            "Model: GaussianNB(). Scaler: MinMaxScaler()\n",
            "Cross-validation scores: [0.22830666 0.21027168 0.20422801 0.22509804 0.21975309]\n",
            "Mean cross-validation score: 0.21753149401822752\n",
            "--------------------------------------------------\n",
            "Model: GaussianNB(). Scaler: RobustScaler()\n",
            "Cross-validation scores: [0.23036187 0.21462264 0.20429687 0.22526574 0.22198821]\n",
            "Mean cross-validation score: 0.21930706663837735\n",
            "--------------------------------------------------\n",
            "Model: XGBClassifier(base_score=None, booster=None, callbacks=None,\n",
            "              colsample_bylevel=None, colsample_bynode=None,\n",
            "              colsample_bytree=None, early_stopping_rounds=None,\n",
            "              enable_categorical=False, eval_metric=None, feature_types=None,\n",
            "              gamma=None, gpu_id=None, grow_policy=None, importance_type=None,\n",
            "              interaction_constraints=None, learning_rate=None, max_bin=None,\n",
            "              max_cat_threshold=None, max_cat_to_onehot=None,\n",
            "              max_delta_step=None, max_depth=None, max_leaves=None,\n",
            "              min_child_weight=None, missing=nan, monotone_constraints=None,\n",
            "              n_estimators=100, n_jobs=None, num_parallel_tree=None,\n",
            "              predictor=None, random_state=22, ...). Scaler: StandardScaler()\n",
            "Cross-validation scores: [0.67770204 0.65898618 0.65384615 0.71231423 0.64306785]\n",
            "Mean cross-validation score: 0.6691832890825523\n",
            "--------------------------------------------------\n",
            "Model: XGBClassifier(base_score=None, booster=None, callbacks=None,\n",
            "              colsample_bylevel=None, colsample_bynode=None,\n",
            "              colsample_bytree=None, early_stopping_rounds=None,\n",
            "              enable_categorical=False, eval_metric=None, feature_types=None,\n",
            "              gamma=None, gpu_id=None, grow_policy=None, importance_type=None,\n",
            "              interaction_constraints=None, learning_rate=None, max_bin=None,\n",
            "              max_cat_threshold=None, max_cat_to_onehot=None,\n",
            "              max_delta_step=None, max_depth=None, max_leaves=None,\n",
            "              min_child_weight=None, missing=nan, monotone_constraints=None,\n",
            "              n_estimators=100, n_jobs=None, num_parallel_tree=None,\n",
            "              predictor=None, random_state=22, ...). Scaler: MinMaxScaler()\n",
            "Cross-validation scores: [0.67485265 0.64088398 0.65120773 0.7045929  0.66276803]\n",
            "Mean cross-validation score: 0.6668610585392963\n",
            "--------------------------------------------------\n",
            "Model: XGBClassifier(base_score=None, booster=None, callbacks=None,\n",
            "              colsample_bylevel=None, colsample_bynode=None,\n",
            "              colsample_bytree=None, early_stopping_rounds=None,\n",
            "              enable_categorical=False, eval_metric=None, feature_types=None,\n",
            "              gamma=None, gpu_id=None, grow_policy=None, importance_type=None,\n",
            "              interaction_constraints=None, learning_rate=None, max_bin=None,\n",
            "              max_cat_threshold=None, max_cat_to_onehot=None,\n",
            "              max_delta_step=None, max_depth=None, max_leaves=None,\n",
            "              min_child_weight=None, missing=nan, monotone_constraints=None,\n",
            "              n_estimators=100, n_jobs=None, num_parallel_tree=None,\n",
            "              predictor=None, random_state=22, ...). Scaler: RobustScaler()\n",
            "Cross-validation scores: [0.68786127 0.67146974 0.65056818 0.70236869 0.64825581]\n",
            "Mean cross-validation score: 0.6721047400304015\n",
            "--------------------------------------------------\n",
            "Model: RandomForestClassifier(random_state=22). Scaler: StandardScaler()\n",
            "Cross-validation scores: [0.73856209 0.71599265 0.69102113 0.75701839 0.71863118]\n",
            "Mean cross-validation score: 0.7242450874119778\n",
            "--------------------------------------------------\n",
            "Model: RandomForestClassifier(random_state=22). Scaler: MinMaxScaler()\n",
            "Cross-validation scores: [0.72947761 0.71059908 0.68766877 0.75754625 0.71794872]\n",
            "Mean cross-validation score: 0.7206480852647712\n",
            "--------------------------------------------------\n",
            "Model: RandomForestClassifier(random_state=22). Scaler: RobustScaler()\n",
            "Cross-validation scores: [0.74545455 0.7093779  0.68925023 0.7577821  0.71938284]\n",
            "Mean cross-validation score: 0.7242495218274329\n",
            "--------------------------------------------------\n",
            "Model: GradientBoostingClassifier(random_state=22). Scaler: StandardScaler()\n",
            "Cross-validation scores: [0.34390575 0.33954355 0.32841163 0.33558994 0.32622096]\n",
            "Mean cross-validation score: 0.33473436728770795\n",
            "--------------------------------------------------\n",
            "Model: GradientBoostingClassifier(random_state=22). Scaler: MinMaxScaler()\n",
            "Cross-validation scores: [0.36204306 0.34246575 0.33907221 0.34198113 0.33938205]\n",
            "Mean cross-validation score: 0.34498884287462017\n",
            "--------------------------------------------------\n",
            "Model: GradientBoostingClassifier(random_state=22). Scaler: RobustScaler()\n",
            "Cross-validation scores: [0.35196889 0.34765998 0.32954545 0.33938547 0.32670455]\n",
            "Mean cross-validation score: 0.3390528684972767\n",
            "--------------------------------------------------\n",
            "Model: ExtraTreesClassifier(random_state=22). Scaler: StandardScaler()\n",
            "Cross-validation scores: [0.72306238 0.71807001 0.70101196 0.74749499 0.70638704]\n",
            "Mean cross-validation score: 0.7192052752173111\n",
            "--------------------------------------------------\n",
            "Model: ExtraTreesClassifier(random_state=22). Scaler: MinMaxScaler()\n",
            "Cross-validation scores: [0.72537879 0.71333964 0.70708955 0.74254473 0.71305182]\n",
            "Mean cross-validation score: 0.7202809071272794\n",
            "--------------------------------------------------\n",
            "Model: ExtraTreesClassifier(random_state=22). Scaler: RobustScaler()\n",
            "Cross-validation scores: [0.7291866  0.71509434 0.69851577 0.74772036 0.70996094]\n",
            "Mean cross-validation score: 0.7200956029358876\n",
            "--------------------------------------------------\n"
          ]
        }
      ]
    },
    {
      "cell_type": "markdown",
      "source": [
        "O modelo que performa melhor no dataframe inteiro usando cross-validation é o  RandomForestClassifier com StandardScaler (Precisão de 72,4%)"
      ],
      "metadata": {
        "id": "RnpXoNpgGbVO"
      }
    },
    {
      "cell_type": "markdown",
      "source": [
        "## 4.4 Hyperparameter Fine-Tuning de melhor modelo"
      ],
      "metadata": {
        "id": "-nJJJVUSSku3"
      }
    },
    {
      "cell_type": "code",
      "source": [
        "from sklearn.model_selection import train_test_split\n",
        "X_train, X_test, y_train, y_test = train_test_split(X, y, test_size=0.30, random_state=rs)"
      ],
      "metadata": {
        "id": "P4z5tYAZYoMQ"
      },
      "execution_count": 88,
      "outputs": []
    },
    {
      "cell_type": "code",
      "source": [],
      "metadata": {
        "id": "j9iH6FFa3ocR"
      },
      "execution_count": null,
      "outputs": []
    },
    {
      "cell_type": "code",
      "source": [],
      "metadata": {
        "id": "H20FIcv13oOK"
      },
      "execution_count": null,
      "outputs": []
    },
    {
      "cell_type": "code",
      "source": [
        "from sklearn.model_selection import GridSearchCV\n",
        "from sklearn.metrics import classification_report\n",
        "\n",
        "# Hyperparameters (Como leva muito tempo, coloquei apenas 1 com pequeno range)\n",
        "param_grid = {\n",
        "    'randomforestclassifier__min_samples_leaf': range(3,7)\n",
        "}\n",
        "\n",
        "rfc = RandomForestClassifier(random_state=rs, n_jobs=-1)\n",
        "\n",
        "# Novo pipeline\n",
        "pipeRFC = make_pipeline(\n",
        "            TargetEncoder(),\n",
        "            StandardScaler(),\n",
        "            rfc\n",
        "        )\n",
        "\n",
        "# GridSearch\n",
        "grid_search = GridSearchCV(pipeRFC, param_grid, cv=skf, scoring='precision', n_jobs=-1, verbose=3)\n",
        "grid_search.fit(X_train, y_train)\n",
        "\n",
        "# Printando melhores hyperparameters\n",
        "print('Best hyperparameters:', grid_search.best_params_)\n",
        "print('Best score:', grid_search.best_score_)\n"
      ],
      "metadata": {
        "id": "99tN-V4gYk2y",
        "colab": {
          "base_uri": "https://localhost:8080/"
        },
        "outputId": "7e021608-d710-439e-d195-fc1fac1e6940"
      },
      "execution_count": 89,
      "outputs": [
        {
          "output_type": "stream",
          "name": "stdout",
          "text": [
            "Fitting 5 folds for each of 4 candidates, totalling 20 fits\n",
            "Best hyperparameters: {'randomforestclassifier__min_samples_leaf': 5}\n",
            "Best score: 0.8232178644395598\n"
          ]
        }
      ]
    },
    {
      "cell_type": "code",
      "source": [
        "# Fit do pipeline com melhores hyperparameters\n",
        "best_pipeRFC = grid_search.best_estimator_\n",
        "best_pipeRFC.fit(X_train, y_train)\n",
        "y_pred = best_pipeRFC.predict(X_test)\n",
        "print(classification_report(y_test, y_pred))"
      ],
      "metadata": {
        "colab": {
          "base_uri": "https://localhost:8080/"
        },
        "id": "YoAAfwBWemCo",
        "outputId": "48721e99-cd66-49f9-e821-80cde8e759ca"
      },
      "execution_count": 90,
      "outputs": [
        {
          "output_type": "stream",
          "name": "stdout",
          "text": [
            "              precision    recall  f1-score   support\n",
            "\n",
            "           0       0.96      0.99      0.98     25100\n",
            "           1       0.82      0.43      0.56      1766\n",
            "\n",
            "    accuracy                           0.96     26866\n",
            "   macro avg       0.89      0.71      0.77     26866\n",
            "weighted avg       0.95      0.96      0.95     26866\n",
            "\n"
          ]
        }
      ]
    },
    {
      "cell_type": "code",
      "source": [
        "import pickle\n",
        "\n",
        "# Salvando o modelo em um arquivo pickle\n",
        "with open('melhor_modelo.pickle', 'wb') as f:\n",
        "    pickle.dump(best_pipeRFC, f)"
      ],
      "metadata": {
        "id": "B-q1vbJW0LUY"
      },
      "execution_count": 91,
      "outputs": []
    },
    {
      "cell_type": "code",
      "source": [],
      "metadata": {
        "id": "bIY_6bswkcDN"
      },
      "execution_count": null,
      "outputs": []
    }
  ]
}