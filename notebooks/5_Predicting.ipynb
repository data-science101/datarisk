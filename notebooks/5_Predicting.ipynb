{
  "nbformat": 4,
  "nbformat_minor": 0,
  "metadata": {
    "colab": {
      "provenance": []
    },
    "kernelspec": {
      "name": "python3",
      "display_name": "Python 3"
    },
    "language_info": {
      "name": "python"
    }
  },
  "cells": [
    {
      "cell_type": "code",
      "source": [
        "from google.colab import drive\n",
        "\n",
        "drive.mount('/content/gdrive')"
      ],
      "metadata": {
        "colab": {
          "base_uri": "https://localhost:8080/"
        },
        "id": "HPZJOR6IhnoD",
        "outputId": "fd13ffb6-3d77-4d47-8a21-099757e28449"
      },
      "execution_count": 248,
      "outputs": [
        {
          "output_type": "stream",
          "name": "stdout",
          "text": [
            "Drive already mounted at /content/gdrive; to attempt to forcibly remount, call drive.mount(\"/content/gdrive\", force_remount=True).\n"
          ]
        }
      ]
    },
    {
      "cell_type": "code",
      "execution_count": 249,
      "metadata": {
        "id": "ibFXFBoQhk59"
      },
      "outputs": [],
      "source": [
        "import pandas as pd\n",
        "import numpy as np\n",
        "import pickle"
      ]
    },
    {
      "cell_type": "code",
      "source": [
        "df_test = pd.read_csv('/content/gdrive/MyDrive/Colab Notebooks/Datarisk/data/base_pagamentos_teste.csv')"
      ],
      "metadata": {
        "id": "EXjHn15hhukt"
      },
      "execution_count": 250,
      "outputs": []
    },
    {
      "cell_type": "code",
      "source": [
        "df_cadastro = pd.read_csv('/content/gdrive/MyDrive/Colab Notebooks/Datarisk/data/base_cadastral.csv')"
      ],
      "metadata": {
        "id": "9k866vW6h-ah"
      },
      "execution_count": 251,
      "outputs": []
    },
    {
      "cell_type": "code",
      "source": [
        "df_info = pd.read_csv('/content/gdrive/MyDrive/Colab Notebooks/Datarisk/data/base_info.csv')"
      ],
      "metadata": {
        "id": "m-_I1JRYsj9J"
      },
      "execution_count": 252,
      "outputs": []
    },
    {
      "cell_type": "code",
      "source": [
        "df_raw = df_test.merge( df_cadastro, how='left', on='ID_CLIENTE')"
      ],
      "metadata": {
        "id": "LcMeUdCiidEG"
      },
      "execution_count": 253,
      "outputs": []
    },
    {
      "cell_type": "code",
      "source": [
        "test = df_raw.merge( df_info, how='left', right_on=['ID_CLIENTE','SAFRA_REF'], left_on=['ID_CLIENTE','SAFRA_REF'])"
      ],
      "metadata": {
        "id": "5hwj3gliidDL"
      },
      "execution_count": 254,
      "outputs": []
    },
    {
      "cell_type": "code",
      "source": [
        "test"
      ],
      "metadata": {
        "colab": {
          "base_uri": "https://localhost:8080/",
          "height": 505
        },
        "id": "-r7eySweidCZ",
        "outputId": "ac577610-72bd-48f9-85a5-361433298490"
      },
      "execution_count": 255,
      "outputs": [
        {
          "output_type": "execute_result",
          "data": {
            "text/plain": [
              "                ID_CLIENTE SAFRA_REF DATA_EMISSAO_DOCUMENTO DATA_VENCIMENTO  \\\n",
              "0      5058298901476893676   2021-07             2021-07-14      2021-08-04   \n",
              "1       274692171162531764   2021-07             2021-07-08      2021-08-23   \n",
              "2       274692171162531764   2021-07             2021-07-11      2021-08-25   \n",
              "3       274692171162531764   2021-07             2021-07-16      2021-08-30   \n",
              "4       465309249432033993   2021-07             2021-07-05      2021-07-30   \n",
              "...                    ...       ...                    ...             ...   \n",
              "12270   705648002974742140   2021-11             2021-11-25      2021-12-13   \n",
              "12271  4993499380140734678   2021-11             2021-11-25      2021-12-13   \n",
              "12272  4614484019183480654   2021-11             2021-11-26      2028-09-30   \n",
              "12273  1299146298565441811   2021-11             2021-11-26      2021-12-13   \n",
              "12274  4061297388883391410   2021-11             2021-11-28      2021-12-23   \n",
              "\n",
              "       VALOR_A_PAGAR  TAXA  Unnamed: 0_x DATA_CADASTRO DDD FLAG_PF  \\\n",
              "0           11204.75  4.99           641    2014-03-30  54     NaN   \n",
              "1           60718.50  5.99           252    2005-08-03  19     NaN   \n",
              "2           60718.50  5.99           252    2005-08-03  19     NaN   \n",
              "3           62250.00  5.99           252    2005-08-03  19     NaN   \n",
              "4           26593.95  6.99           125    2014-07-23  69     NaN   \n",
              "...              ...   ...           ...           ...  ..     ...   \n",
              "12270       47010.00  6.99           982    2020-01-26  67     NaN   \n",
              "12271      122875.35  8.99           565    2015-11-24  31     NaN   \n",
              "12272      302200.00  5.99           138    2011-02-14  51     NaN   \n",
              "12273      143791.85  5.99            14    2000-08-15  21     NaN   \n",
              "12274       23724.10  4.99            61    2012-03-11  47     NaN   \n",
              "\n",
              "      SEGMENTO_INDUSTRIAL DOMINIO_EMAIL    PORTE CEP_2_DIG  Unnamed: 0_y  \\\n",
              "0                Serviços         GMAIL    MEDIO        99      132986.0   \n",
              "1                Serviços         GMAIL  PEQUENO        13      420995.0   \n",
              "2                Serviços         GMAIL  PEQUENO        13      420995.0   \n",
              "3                Serviços         GMAIL  PEQUENO        13      420995.0   \n",
              "4                Comércio         GMAIL   GRANDE        76      324093.0   \n",
              "...                   ...           ...      ...       ...           ...   \n",
              "12270           Indústria         YAHOO    MEDIO        79           NaN   \n",
              "12271            Serviços         GMAIL  PEQUENO        37      289980.0   \n",
              "12272           Indústria         YAHOO    MEDIO        93           NaN   \n",
              "12273            Serviços       HOTMAIL    MEDIO        21      348725.0   \n",
              "12274            Serviços         YAHOO   GRANDE        89      484915.0   \n",
              "\n",
              "       RENDA_MES_ANTERIOR  NO_FUNCIONARIOS  \n",
              "0                467430.0            154.0  \n",
              "1                417192.0            104.0  \n",
              "2                417192.0            104.0  \n",
              "3                417192.0            104.0  \n",
              "4                873938.0            119.0  \n",
              "...                   ...              ...  \n",
              "12270                 NaN              NaN  \n",
              "12271            311422.0            150.0  \n",
              "12272                 NaN              NaN  \n",
              "12273            220341.0            122.0  \n",
              "12274            204643.0            124.0  \n",
              "\n",
              "[12275 rows x 17 columns]"
            ],
            "text/html": [
              "\n",
              "  <div id=\"df-01e79fb8-b66a-4bac-85c8-fa42d12d5ec3\">\n",
              "    <div class=\"colab-df-container\">\n",
              "      <div>\n",
              "<style scoped>\n",
              "    .dataframe tbody tr th:only-of-type {\n",
              "        vertical-align: middle;\n",
              "    }\n",
              "\n",
              "    .dataframe tbody tr th {\n",
              "        vertical-align: top;\n",
              "    }\n",
              "\n",
              "    .dataframe thead th {\n",
              "        text-align: right;\n",
              "    }\n",
              "</style>\n",
              "<table border=\"1\" class=\"dataframe\">\n",
              "  <thead>\n",
              "    <tr style=\"text-align: right;\">\n",
              "      <th></th>\n",
              "      <th>ID_CLIENTE</th>\n",
              "      <th>SAFRA_REF</th>\n",
              "      <th>DATA_EMISSAO_DOCUMENTO</th>\n",
              "      <th>DATA_VENCIMENTO</th>\n",
              "      <th>VALOR_A_PAGAR</th>\n",
              "      <th>TAXA</th>\n",
              "      <th>Unnamed: 0_x</th>\n",
              "      <th>DATA_CADASTRO</th>\n",
              "      <th>DDD</th>\n",
              "      <th>FLAG_PF</th>\n",
              "      <th>SEGMENTO_INDUSTRIAL</th>\n",
              "      <th>DOMINIO_EMAIL</th>\n",
              "      <th>PORTE</th>\n",
              "      <th>CEP_2_DIG</th>\n",
              "      <th>Unnamed: 0_y</th>\n",
              "      <th>RENDA_MES_ANTERIOR</th>\n",
              "      <th>NO_FUNCIONARIOS</th>\n",
              "    </tr>\n",
              "  </thead>\n",
              "  <tbody>\n",
              "    <tr>\n",
              "      <th>0</th>\n",
              "      <td>5058298901476893676</td>\n",
              "      <td>2021-07</td>\n",
              "      <td>2021-07-14</td>\n",
              "      <td>2021-08-04</td>\n",
              "      <td>11204.75</td>\n",
              "      <td>4.99</td>\n",
              "      <td>641</td>\n",
              "      <td>2014-03-30</td>\n",
              "      <td>54</td>\n",
              "      <td>NaN</td>\n",
              "      <td>Serviços</td>\n",
              "      <td>GMAIL</td>\n",
              "      <td>MEDIO</td>\n",
              "      <td>99</td>\n",
              "      <td>132986.0</td>\n",
              "      <td>467430.0</td>\n",
              "      <td>154.0</td>\n",
              "    </tr>\n",
              "    <tr>\n",
              "      <th>1</th>\n",
              "      <td>274692171162531764</td>\n",
              "      <td>2021-07</td>\n",
              "      <td>2021-07-08</td>\n",
              "      <td>2021-08-23</td>\n",
              "      <td>60718.50</td>\n",
              "      <td>5.99</td>\n",
              "      <td>252</td>\n",
              "      <td>2005-08-03</td>\n",
              "      <td>19</td>\n",
              "      <td>NaN</td>\n",
              "      <td>Serviços</td>\n",
              "      <td>GMAIL</td>\n",
              "      <td>PEQUENO</td>\n",
              "      <td>13</td>\n",
              "      <td>420995.0</td>\n",
              "      <td>417192.0</td>\n",
              "      <td>104.0</td>\n",
              "    </tr>\n",
              "    <tr>\n",
              "      <th>2</th>\n",
              "      <td>274692171162531764</td>\n",
              "      <td>2021-07</td>\n",
              "      <td>2021-07-11</td>\n",
              "      <td>2021-08-25</td>\n",
              "      <td>60718.50</td>\n",
              "      <td>5.99</td>\n",
              "      <td>252</td>\n",
              "      <td>2005-08-03</td>\n",
              "      <td>19</td>\n",
              "      <td>NaN</td>\n",
              "      <td>Serviços</td>\n",
              "      <td>GMAIL</td>\n",
              "      <td>PEQUENO</td>\n",
              "      <td>13</td>\n",
              "      <td>420995.0</td>\n",
              "      <td>417192.0</td>\n",
              "      <td>104.0</td>\n",
              "    </tr>\n",
              "    <tr>\n",
              "      <th>3</th>\n",
              "      <td>274692171162531764</td>\n",
              "      <td>2021-07</td>\n",
              "      <td>2021-07-16</td>\n",
              "      <td>2021-08-30</td>\n",
              "      <td>62250.00</td>\n",
              "      <td>5.99</td>\n",
              "      <td>252</td>\n",
              "      <td>2005-08-03</td>\n",
              "      <td>19</td>\n",
              "      <td>NaN</td>\n",
              "      <td>Serviços</td>\n",
              "      <td>GMAIL</td>\n",
              "      <td>PEQUENO</td>\n",
              "      <td>13</td>\n",
              "      <td>420995.0</td>\n",
              "      <td>417192.0</td>\n",
              "      <td>104.0</td>\n",
              "    </tr>\n",
              "    <tr>\n",
              "      <th>4</th>\n",
              "      <td>465309249432033993</td>\n",
              "      <td>2021-07</td>\n",
              "      <td>2021-07-05</td>\n",
              "      <td>2021-07-30</td>\n",
              "      <td>26593.95</td>\n",
              "      <td>6.99</td>\n",
              "      <td>125</td>\n",
              "      <td>2014-07-23</td>\n",
              "      <td>69</td>\n",
              "      <td>NaN</td>\n",
              "      <td>Comércio</td>\n",
              "      <td>GMAIL</td>\n",
              "      <td>GRANDE</td>\n",
              "      <td>76</td>\n",
              "      <td>324093.0</td>\n",
              "      <td>873938.0</td>\n",
              "      <td>119.0</td>\n",
              "    </tr>\n",
              "    <tr>\n",
              "      <th>...</th>\n",
              "      <td>...</td>\n",
              "      <td>...</td>\n",
              "      <td>...</td>\n",
              "      <td>...</td>\n",
              "      <td>...</td>\n",
              "      <td>...</td>\n",
              "      <td>...</td>\n",
              "      <td>...</td>\n",
              "      <td>...</td>\n",
              "      <td>...</td>\n",
              "      <td>...</td>\n",
              "      <td>...</td>\n",
              "      <td>...</td>\n",
              "      <td>...</td>\n",
              "      <td>...</td>\n",
              "      <td>...</td>\n",
              "      <td>...</td>\n",
              "    </tr>\n",
              "    <tr>\n",
              "      <th>12270</th>\n",
              "      <td>705648002974742140</td>\n",
              "      <td>2021-11</td>\n",
              "      <td>2021-11-25</td>\n",
              "      <td>2021-12-13</td>\n",
              "      <td>47010.00</td>\n",
              "      <td>6.99</td>\n",
              "      <td>982</td>\n",
              "      <td>2020-01-26</td>\n",
              "      <td>67</td>\n",
              "      <td>NaN</td>\n",
              "      <td>Indústria</td>\n",
              "      <td>YAHOO</td>\n",
              "      <td>MEDIO</td>\n",
              "      <td>79</td>\n",
              "      <td>NaN</td>\n",
              "      <td>NaN</td>\n",
              "      <td>NaN</td>\n",
              "    </tr>\n",
              "    <tr>\n",
              "      <th>12271</th>\n",
              "      <td>4993499380140734678</td>\n",
              "      <td>2021-11</td>\n",
              "      <td>2021-11-25</td>\n",
              "      <td>2021-12-13</td>\n",
              "      <td>122875.35</td>\n",
              "      <td>8.99</td>\n",
              "      <td>565</td>\n",
              "      <td>2015-11-24</td>\n",
              "      <td>31</td>\n",
              "      <td>NaN</td>\n",
              "      <td>Serviços</td>\n",
              "      <td>GMAIL</td>\n",
              "      <td>PEQUENO</td>\n",
              "      <td>37</td>\n",
              "      <td>289980.0</td>\n",
              "      <td>311422.0</td>\n",
              "      <td>150.0</td>\n",
              "    </tr>\n",
              "    <tr>\n",
              "      <th>12272</th>\n",
              "      <td>4614484019183480654</td>\n",
              "      <td>2021-11</td>\n",
              "      <td>2021-11-26</td>\n",
              "      <td>2028-09-30</td>\n",
              "      <td>302200.00</td>\n",
              "      <td>5.99</td>\n",
              "      <td>138</td>\n",
              "      <td>2011-02-14</td>\n",
              "      <td>51</td>\n",
              "      <td>NaN</td>\n",
              "      <td>Indústria</td>\n",
              "      <td>YAHOO</td>\n",
              "      <td>MEDIO</td>\n",
              "      <td>93</td>\n",
              "      <td>NaN</td>\n",
              "      <td>NaN</td>\n",
              "      <td>NaN</td>\n",
              "    </tr>\n",
              "    <tr>\n",
              "      <th>12273</th>\n",
              "      <td>1299146298565441811</td>\n",
              "      <td>2021-11</td>\n",
              "      <td>2021-11-26</td>\n",
              "      <td>2021-12-13</td>\n",
              "      <td>143791.85</td>\n",
              "      <td>5.99</td>\n",
              "      <td>14</td>\n",
              "      <td>2000-08-15</td>\n",
              "      <td>21</td>\n",
              "      <td>NaN</td>\n",
              "      <td>Serviços</td>\n",
              "      <td>HOTMAIL</td>\n",
              "      <td>MEDIO</td>\n",
              "      <td>21</td>\n",
              "      <td>348725.0</td>\n",
              "      <td>220341.0</td>\n",
              "      <td>122.0</td>\n",
              "    </tr>\n",
              "    <tr>\n",
              "      <th>12274</th>\n",
              "      <td>4061297388883391410</td>\n",
              "      <td>2021-11</td>\n",
              "      <td>2021-11-28</td>\n",
              "      <td>2021-12-23</td>\n",
              "      <td>23724.10</td>\n",
              "      <td>4.99</td>\n",
              "      <td>61</td>\n",
              "      <td>2012-03-11</td>\n",
              "      <td>47</td>\n",
              "      <td>NaN</td>\n",
              "      <td>Serviços</td>\n",
              "      <td>YAHOO</td>\n",
              "      <td>GRANDE</td>\n",
              "      <td>89</td>\n",
              "      <td>484915.0</td>\n",
              "      <td>204643.0</td>\n",
              "      <td>124.0</td>\n",
              "    </tr>\n",
              "  </tbody>\n",
              "</table>\n",
              "<p>12275 rows × 17 columns</p>\n",
              "</div>\n",
              "      <button class=\"colab-df-convert\" onclick=\"convertToInteractive('df-01e79fb8-b66a-4bac-85c8-fa42d12d5ec3')\"\n",
              "              title=\"Convert this dataframe to an interactive table.\"\n",
              "              style=\"display:none;\">\n",
              "        \n",
              "  <svg xmlns=\"http://www.w3.org/2000/svg\" height=\"24px\"viewBox=\"0 0 24 24\"\n",
              "       width=\"24px\">\n",
              "    <path d=\"M0 0h24v24H0V0z\" fill=\"none\"/>\n",
              "    <path d=\"M18.56 5.44l.94 2.06.94-2.06 2.06-.94-2.06-.94-.94-2.06-.94 2.06-2.06.94zm-11 1L8.5 8.5l.94-2.06 2.06-.94-2.06-.94L8.5 2.5l-.94 2.06-2.06.94zm10 10l.94 2.06.94-2.06 2.06-.94-2.06-.94-.94-2.06-.94 2.06-2.06.94z\"/><path d=\"M17.41 7.96l-1.37-1.37c-.4-.4-.92-.59-1.43-.59-.52 0-1.04.2-1.43.59L10.3 9.45l-7.72 7.72c-.78.78-.78 2.05 0 2.83L4 21.41c.39.39.9.59 1.41.59.51 0 1.02-.2 1.41-.59l7.78-7.78 2.81-2.81c.8-.78.8-2.07 0-2.86zM5.41 20L4 18.59l7.72-7.72 1.47 1.35L5.41 20z\"/>\n",
              "  </svg>\n",
              "      </button>\n",
              "      \n",
              "  <style>\n",
              "    .colab-df-container {\n",
              "      display:flex;\n",
              "      flex-wrap:wrap;\n",
              "      gap: 12px;\n",
              "    }\n",
              "\n",
              "    .colab-df-convert {\n",
              "      background-color: #E8F0FE;\n",
              "      border: none;\n",
              "      border-radius: 50%;\n",
              "      cursor: pointer;\n",
              "      display: none;\n",
              "      fill: #1967D2;\n",
              "      height: 32px;\n",
              "      padding: 0 0 0 0;\n",
              "      width: 32px;\n",
              "    }\n",
              "\n",
              "    .colab-df-convert:hover {\n",
              "      background-color: #E2EBFA;\n",
              "      box-shadow: 0px 1px 2px rgba(60, 64, 67, 0.3), 0px 1px 3px 1px rgba(60, 64, 67, 0.15);\n",
              "      fill: #174EA6;\n",
              "    }\n",
              "\n",
              "    [theme=dark] .colab-df-convert {\n",
              "      background-color: #3B4455;\n",
              "      fill: #D2E3FC;\n",
              "    }\n",
              "\n",
              "    [theme=dark] .colab-df-convert:hover {\n",
              "      background-color: #434B5C;\n",
              "      box-shadow: 0px 1px 3px 1px rgba(0, 0, 0, 0.15);\n",
              "      filter: drop-shadow(0px 1px 2px rgba(0, 0, 0, 0.3));\n",
              "      fill: #FFFFFF;\n",
              "    }\n",
              "  </style>\n",
              "\n",
              "      <script>\n",
              "        const buttonEl =\n",
              "          document.querySelector('#df-01e79fb8-b66a-4bac-85c8-fa42d12d5ec3 button.colab-df-convert');\n",
              "        buttonEl.style.display =\n",
              "          google.colab.kernel.accessAllowed ? 'block' : 'none';\n",
              "\n",
              "        async function convertToInteractive(key) {\n",
              "          const element = document.querySelector('#df-01e79fb8-b66a-4bac-85c8-fa42d12d5ec3');\n",
              "          const dataTable =\n",
              "            await google.colab.kernel.invokeFunction('convertToInteractive',\n",
              "                                                     [key], {});\n",
              "          if (!dataTable) return;\n",
              "\n",
              "          const docLinkHtml = 'Like what you see? Visit the ' +\n",
              "            '<a target=\"_blank\" href=https://colab.research.google.com/notebooks/data_table.ipynb>data table notebook</a>'\n",
              "            + ' to learn more about interactive tables.';\n",
              "          element.innerHTML = '';\n",
              "          dataTable['output_type'] = 'display_data';\n",
              "          await google.colab.output.renderOutput(dataTable, element);\n",
              "          const docLink = document.createElement('div');\n",
              "          docLink.innerHTML = docLinkHtml;\n",
              "          element.appendChild(docLink);\n",
              "        }\n",
              "      </script>\n",
              "    </div>\n",
              "  </div>\n",
              "  "
            ]
          },
          "metadata": {},
          "execution_count": 255
        }
      ]
    },
    {
      "cell_type": "code",
      "source": [
        "test = test.drop(columns={\n",
        "    'Unnamed: 0_x',\n",
        "    'Unnamed: 0_y'\n",
        "})"
      ],
      "metadata": {
        "id": "IT6EbF_1idBa"
      },
      "execution_count": 256,
      "outputs": []
    },
    {
      "cell_type": "code",
      "source": [
        "test = test.loc[test['CEP_2_DIG'] != 'na']"
      ],
      "metadata": {
        "id": "37FPha-oidA0"
      },
      "execution_count": 257,
      "outputs": []
    },
    {
      "cell_type": "code",
      "source": [
        "# Replace de X por PF e fill de missing com PJ em FLAG_PF\n",
        "test['FLAG_PF'] = test['FLAG_PF'].fillna('PJ')\n",
        "test['FLAG_PF'] = test['FLAG_PF'].str.replace('X','PF')\n",
        "\n",
        "# Preenchendo missing values de variáveis categóricas com 'SEM_VALOR'\n",
        "replace_strings = 'SEM_VALOR'\n",
        "test['PORTE'] = test['PORTE'].fillna(replace_strings)\n",
        "test['DOMINIO_EMAIL'] = test['DOMINIO_EMAIL'].fillna(replace_strings)\n",
        "test['SEGMENTO_INDUSTRIAL'] = test['SEGMENTO_INDUSTRIAL'].fillna(replace_strings)\n",
        "\n",
        "# Preenchendo missing values de DATA_CADASTRO com mode\n",
        "mode_cadastro = test['DATA_CADASTRO'].mode()[0]\n",
        "test['DATA_CADASTRO'] = test['DATA_CADASTRO'].fillna(mode_cadastro)\n"
      ],
      "metadata": {
        "colab": {
          "base_uri": "https://localhost:8080/"
        },
        "id": "V8lNrnCuic5K",
        "outputId": "a2eb24a0-0b4b-40ae-9958-71f7761a58cc"
      },
      "execution_count": 258,
      "outputs": [
        {
          "output_type": "stream",
          "name": "stderr",
          "text": [
            "<ipython-input-258-917ed2dd10db>:2: SettingWithCopyWarning: \n",
            "A value is trying to be set on a copy of a slice from a DataFrame.\n",
            "Try using .loc[row_indexer,col_indexer] = value instead\n",
            "\n",
            "See the caveats in the documentation: https://pandas.pydata.org/pandas-docs/stable/user_guide/indexing.html#returning-a-view-versus-a-copy\n",
            "  test['FLAG_PF'] = test['FLAG_PF'].fillna('PJ')\n",
            "<ipython-input-258-917ed2dd10db>:3: SettingWithCopyWarning: \n",
            "A value is trying to be set on a copy of a slice from a DataFrame.\n",
            "Try using .loc[row_indexer,col_indexer] = value instead\n",
            "\n",
            "See the caveats in the documentation: https://pandas.pydata.org/pandas-docs/stable/user_guide/indexing.html#returning-a-view-versus-a-copy\n",
            "  test['FLAG_PF'] = test['FLAG_PF'].str.replace('X','PF')\n",
            "<ipython-input-258-917ed2dd10db>:7: SettingWithCopyWarning: \n",
            "A value is trying to be set on a copy of a slice from a DataFrame.\n",
            "Try using .loc[row_indexer,col_indexer] = value instead\n",
            "\n",
            "See the caveats in the documentation: https://pandas.pydata.org/pandas-docs/stable/user_guide/indexing.html#returning-a-view-versus-a-copy\n",
            "  test['PORTE'] = test['PORTE'].fillna(replace_strings)\n",
            "<ipython-input-258-917ed2dd10db>:8: SettingWithCopyWarning: \n",
            "A value is trying to be set on a copy of a slice from a DataFrame.\n",
            "Try using .loc[row_indexer,col_indexer] = value instead\n",
            "\n",
            "See the caveats in the documentation: https://pandas.pydata.org/pandas-docs/stable/user_guide/indexing.html#returning-a-view-versus-a-copy\n",
            "  test['DOMINIO_EMAIL'] = test['DOMINIO_EMAIL'].fillna(replace_strings)\n",
            "<ipython-input-258-917ed2dd10db>:9: SettingWithCopyWarning: \n",
            "A value is trying to be set on a copy of a slice from a DataFrame.\n",
            "Try using .loc[row_indexer,col_indexer] = value instead\n",
            "\n",
            "See the caveats in the documentation: https://pandas.pydata.org/pandas-docs/stable/user_guide/indexing.html#returning-a-view-versus-a-copy\n",
            "  test['SEGMENTO_INDUSTRIAL'] = test['SEGMENTO_INDUSTRIAL'].fillna(replace_strings)\n",
            "<ipython-input-258-917ed2dd10db>:13: SettingWithCopyWarning: \n",
            "A value is trying to be set on a copy of a slice from a DataFrame.\n",
            "Try using .loc[row_indexer,col_indexer] = value instead\n",
            "\n",
            "See the caveats in the documentation: https://pandas.pydata.org/pandas-docs/stable/user_guide/indexing.html#returning-a-view-versus-a-copy\n",
            "  test['DATA_CADASTRO'] = test['DATA_CADASTRO'].fillna(mode_cadastro)\n"
          ]
        }
      ]
    },
    {
      "cell_type": "code",
      "source": [
        "test['SAFRA_REF'] = pd.to_datetime(test['SAFRA_REF'])\n",
        "test['DATA_EMISSAO_DOCUMENTO'] = pd.to_datetime(test['DATA_EMISSAO_DOCUMENTO'])\n",
        "test['DATA_VENCIMENTO'] = pd.to_datetime(test['DATA_VENCIMENTO'])\n",
        "test['DATA_CADASTRO'] = pd.to_datetime(test['DATA_CADASTRO'])"
      ],
      "metadata": {
        "colab": {
          "base_uri": "https://localhost:8080/"
        },
        "id": "nD88Z7hbic4b",
        "outputId": "dab75149-e997-4ce6-b6aa-51f2e4050c9f"
      },
      "execution_count": 259,
      "outputs": [
        {
          "output_type": "stream",
          "name": "stderr",
          "text": [
            "<ipython-input-259-af13aaddc06c>:1: SettingWithCopyWarning: \n",
            "A value is trying to be set on a copy of a slice from a DataFrame.\n",
            "Try using .loc[row_indexer,col_indexer] = value instead\n",
            "\n",
            "See the caveats in the documentation: https://pandas.pydata.org/pandas-docs/stable/user_guide/indexing.html#returning-a-view-versus-a-copy\n",
            "  test['SAFRA_REF'] = pd.to_datetime(test['SAFRA_REF'])\n",
            "<ipython-input-259-af13aaddc06c>:2: SettingWithCopyWarning: \n",
            "A value is trying to be set on a copy of a slice from a DataFrame.\n",
            "Try using .loc[row_indexer,col_indexer] = value instead\n",
            "\n",
            "See the caveats in the documentation: https://pandas.pydata.org/pandas-docs/stable/user_guide/indexing.html#returning-a-view-versus-a-copy\n",
            "  test['DATA_EMISSAO_DOCUMENTO'] = pd.to_datetime(test['DATA_EMISSAO_DOCUMENTO'])\n",
            "<ipython-input-259-af13aaddc06c>:3: SettingWithCopyWarning: \n",
            "A value is trying to be set on a copy of a slice from a DataFrame.\n",
            "Try using .loc[row_indexer,col_indexer] = value instead\n",
            "\n",
            "See the caveats in the documentation: https://pandas.pydata.org/pandas-docs/stable/user_guide/indexing.html#returning-a-view-versus-a-copy\n",
            "  test['DATA_VENCIMENTO'] = pd.to_datetime(test['DATA_VENCIMENTO'])\n",
            "<ipython-input-259-af13aaddc06c>:4: SettingWithCopyWarning: \n",
            "A value is trying to be set on a copy of a slice from a DataFrame.\n",
            "Try using .loc[row_indexer,col_indexer] = value instead\n",
            "\n",
            "See the caveats in the documentation: https://pandas.pydata.org/pandas-docs/stable/user_guide/indexing.html#returning-a-view-versus-a-copy\n",
            "  test['DATA_CADASTRO'] = pd.to_datetime(test['DATA_CADASTRO'])\n"
          ]
        }
      ]
    },
    {
      "cell_type": "code",
      "source": [
        "test['PRAZO'] = test['DATA_VENCIMENTO'] - test['DATA_EMISSAO_DOCUMENTO']"
      ],
      "metadata": {
        "colab": {
          "base_uri": "https://localhost:8080/"
        },
        "id": "Y39SMOOSwFUr",
        "outputId": "c7a68fd8-3a3a-49ab-d8b9-dbeb4d9de3f0"
      },
      "execution_count": 260,
      "outputs": [
        {
          "output_type": "stream",
          "name": "stderr",
          "text": [
            "<ipython-input-260-53c505f35cf6>:1: SettingWithCopyWarning: \n",
            "A value is trying to be set on a copy of a slice from a DataFrame.\n",
            "Try using .loc[row_indexer,col_indexer] = value instead\n",
            "\n",
            "See the caveats in the documentation: https://pandas.pydata.org/pandas-docs/stable/user_guide/indexing.html#returning-a-view-versus-a-copy\n",
            "  test['PRAZO'] = test['DATA_VENCIMENTO'] - test['DATA_EMISSAO_DOCUMENTO']\n"
          ]
        }
      ]
    },
    {
      "cell_type": "code",
      "source": [
        "'''Como os números do CEP possuem significado, vamos pegar o primeiro que\n",
        "representa a Zona Postal. O segundo possui muitas variáveis dentro de cada\n",
        "Zona Postal, portanto vou usar apenas o primeiro'''\n",
        "\n",
        "primeiro_numero = []\n",
        "\n",
        "for i in test['CEP_2_DIG']:\n",
        "  primeiro = i[0]\n",
        "  if primeiro == '0':\n",
        "    primeiro_numero.append('Região Metropolitana de São Paulo')\n",
        "  elif primeiro == '1':\n",
        "      primeiro_numero.append('Litoral e interior de SP')\n",
        "  elif primeiro == '2':\n",
        "      primeiro_numero.append('RJ / ES')\n",
        "  elif primeiro == '3':\n",
        "      primeiro_numero.append('MG')\n",
        "  elif primeiro == '4':\n",
        "      primeiro_numero.append('BH / SE')\n",
        "  elif primeiro == '5':\n",
        "      primeiro_numero.append('PE / AL / PB / RN')\n",
        "  elif primeiro == '6':\n",
        "      primeiro_numero.append('CE / PI / MA / PA / AP / AM / RR / AC')\n",
        "  elif primeiro == '7':\n",
        "      primeiro_numero.append('DF / GO / RO / TO / MT / MS')\n",
        "  elif primeiro == '8':\n",
        "      primeiro_numero.append('PR / SC')\n",
        "  elif primeiro == '9':\n",
        "      primeiro_numero.append('RS')\n",
        "\n",
        "test['ZONA_POSTAL'] = primeiro_numero\n",
        "\n",
        "test['CEP_2_DIG'] = test['CEP_2_DIG'].astype('int')"
      ],
      "metadata": {
        "colab": {
          "base_uri": "https://localhost:8080/"
        },
        "id": "dOYzfI4QvUas",
        "outputId": "5d82db15-097e-4c69-d577-56c0030f9dad"
      },
      "execution_count": 261,
      "outputs": [
        {
          "output_type": "stream",
          "name": "stderr",
          "text": [
            "<ipython-input-261-c4654d165eb0>:30: SettingWithCopyWarning: \n",
            "A value is trying to be set on a copy of a slice from a DataFrame.\n",
            "Try using .loc[row_indexer,col_indexer] = value instead\n",
            "\n",
            "See the caveats in the documentation: https://pandas.pydata.org/pandas-docs/stable/user_guide/indexing.html#returning-a-view-versus-a-copy\n",
            "  test['ZONA_POSTAL'] = primeiro_numero\n",
            "<ipython-input-261-c4654d165eb0>:32: SettingWithCopyWarning: \n",
            "A value is trying to be set on a copy of a slice from a DataFrame.\n",
            "Try using .loc[row_indexer,col_indexer] = value instead\n",
            "\n",
            "See the caveats in the documentation: https://pandas.pydata.org/pandas-docs/stable/user_guide/indexing.html#returning-a-view-versus-a-copy\n",
            "  test['CEP_2_DIG'] = test['CEP_2_DIG'].astype('int')\n"
          ]
        }
      ]
    },
    {
      "cell_type": "code",
      "source": [
        "test['LIFETIME_CLIENTE_DIAS'] = test['DATA_EMISSAO_DOCUMENTO'] - test['DATA_CADASTRO']\n",
        "test['LIFETIME_CLIENTE_DIAS'] = test['LIFETIME_CLIENTE_DIAS'].dt.days"
      ],
      "metadata": {
        "colab": {
          "base_uri": "https://localhost:8080/"
        },
        "id": "oQagd7fUic0p",
        "outputId": "ae144440-92a2-4d99-a0a4-81bc04bf54e5"
      },
      "execution_count": 262,
      "outputs": [
        {
          "output_type": "stream",
          "name": "stderr",
          "text": [
            "<ipython-input-262-c6f09f2bff5b>:1: SettingWithCopyWarning: \n",
            "A value is trying to be set on a copy of a slice from a DataFrame.\n",
            "Try using .loc[row_indexer,col_indexer] = value instead\n",
            "\n",
            "See the caveats in the documentation: https://pandas.pydata.org/pandas-docs/stable/user_guide/indexing.html#returning-a-view-versus-a-copy\n",
            "  test['LIFETIME_CLIENTE_DIAS'] = test['DATA_EMISSAO_DOCUMENTO'] - test['DATA_CADASTRO']\n",
            "<ipython-input-262-c6f09f2bff5b>:2: SettingWithCopyWarning: \n",
            "A value is trying to be set on a copy of a slice from a DataFrame.\n",
            "Try using .loc[row_indexer,col_indexer] = value instead\n",
            "\n",
            "See the caveats in the documentation: https://pandas.pydata.org/pandas-docs/stable/user_guide/indexing.html#returning-a-view-versus-a-copy\n",
            "  test['LIFETIME_CLIENTE_DIAS'] = test['LIFETIME_CLIENTE_DIAS'].dt.days\n"
          ]
        }
      ]
    },
    {
      "cell_type": "code",
      "source": [],
      "metadata": {
        "id": "IcX0GDF_wKSa"
      },
      "execution_count": 262,
      "outputs": []
    },
    {
      "cell_type": "code",
      "source": [
        "# Criando features com mês, ano e dia da semana\n",
        "\n",
        "test['MES_EMISSAO_DOCUMENTO'] = test['DATA_EMISSAO_DOCUMENTO'].dt.month\n",
        "test['MES_VENCIMENTO'] = test['DATA_VENCIMENTO'].dt.month\n",
        "test['MES_CADASTRO'] = test['DATA_CADASTRO'].dt.month\n",
        "test['MES_SAFRA_REF'] = test['SAFRA_REF'].dt.month\n",
        "\n",
        "test['DIASEMANA_EMISSAO'] = test['DATA_EMISSAO_DOCUMENTO'].dt.day_name()\n",
        "test['DIASEMANA_VENCIMENTO'] = test['DATA_VENCIMENTO'].dt.day_name()\n",
        "test['DIASEMANA_CADASTRO'] = test['DATA_CADASTRO'].dt.day_name()\n",
        "test['DIASEMANA_SAFRA_REF'] = test['SAFRA_REF'].dt.day_name()\n",
        "\n",
        "test['ANO_EMISSAO_DOCUMENTO'] = test['DATA_EMISSAO_DOCUMENTO'].dt.year\n",
        "test['ANO_VENCIMENTO'] = test['DATA_VENCIMENTO'].dt.year\n",
        "test['ANO_CADASTRO'] = test['DATA_CADASTRO'].dt.year\n",
        "test['ANO_SAFRA_REF'] = test['SAFRA_REF'].dt.year"
      ],
      "metadata": {
        "colab": {
          "base_uri": "https://localhost:8080/"
        },
        "id": "FKz4N1U8icxv",
        "outputId": "cb96ab25-9e11-4548-9408-7d141003d8bd"
      },
      "execution_count": 263,
      "outputs": [
        {
          "output_type": "stream",
          "name": "stderr",
          "text": [
            "<ipython-input-263-d52058579f7f>:3: SettingWithCopyWarning: \n",
            "A value is trying to be set on a copy of a slice from a DataFrame.\n",
            "Try using .loc[row_indexer,col_indexer] = value instead\n",
            "\n",
            "See the caveats in the documentation: https://pandas.pydata.org/pandas-docs/stable/user_guide/indexing.html#returning-a-view-versus-a-copy\n",
            "  test['MES_EMISSAO_DOCUMENTO'] = test['DATA_EMISSAO_DOCUMENTO'].dt.month\n",
            "<ipython-input-263-d52058579f7f>:4: SettingWithCopyWarning: \n",
            "A value is trying to be set on a copy of a slice from a DataFrame.\n",
            "Try using .loc[row_indexer,col_indexer] = value instead\n",
            "\n",
            "See the caveats in the documentation: https://pandas.pydata.org/pandas-docs/stable/user_guide/indexing.html#returning-a-view-versus-a-copy\n",
            "  test['MES_VENCIMENTO'] = test['DATA_VENCIMENTO'].dt.month\n",
            "<ipython-input-263-d52058579f7f>:5: SettingWithCopyWarning: \n",
            "A value is trying to be set on a copy of a slice from a DataFrame.\n",
            "Try using .loc[row_indexer,col_indexer] = value instead\n",
            "\n",
            "See the caveats in the documentation: https://pandas.pydata.org/pandas-docs/stable/user_guide/indexing.html#returning-a-view-versus-a-copy\n",
            "  test['MES_CADASTRO'] = test['DATA_CADASTRO'].dt.month\n",
            "<ipython-input-263-d52058579f7f>:6: SettingWithCopyWarning: \n",
            "A value is trying to be set on a copy of a slice from a DataFrame.\n",
            "Try using .loc[row_indexer,col_indexer] = value instead\n",
            "\n",
            "See the caveats in the documentation: https://pandas.pydata.org/pandas-docs/stable/user_guide/indexing.html#returning-a-view-versus-a-copy\n",
            "  test['MES_SAFRA_REF'] = test['SAFRA_REF'].dt.month\n",
            "<ipython-input-263-d52058579f7f>:8: SettingWithCopyWarning: \n",
            "A value is trying to be set on a copy of a slice from a DataFrame.\n",
            "Try using .loc[row_indexer,col_indexer] = value instead\n",
            "\n",
            "See the caveats in the documentation: https://pandas.pydata.org/pandas-docs/stable/user_guide/indexing.html#returning-a-view-versus-a-copy\n",
            "  test['DIASEMANA_EMISSAO'] = test['DATA_EMISSAO_DOCUMENTO'].dt.day_name()\n",
            "<ipython-input-263-d52058579f7f>:9: SettingWithCopyWarning: \n",
            "A value is trying to be set on a copy of a slice from a DataFrame.\n",
            "Try using .loc[row_indexer,col_indexer] = value instead\n",
            "\n",
            "See the caveats in the documentation: https://pandas.pydata.org/pandas-docs/stable/user_guide/indexing.html#returning-a-view-versus-a-copy\n",
            "  test['DIASEMANA_VENCIMENTO'] = test['DATA_VENCIMENTO'].dt.day_name()\n"
          ]
        }
      ]
    },
    {
      "cell_type": "code",
      "source": [
        "test = test.drop(columns={'DATA_EMISSAO_DOCUMENTO','DATA_VENCIMENTO','DATA_CADASTRO'})"
      ],
      "metadata": {
        "id": "CPiZdWUOt_PK"
      },
      "execution_count": 264,
      "outputs": []
    },
    {
      "cell_type": "code",
      "source": [
        "pip install category-encoders"
      ],
      "metadata": {
        "colab": {
          "base_uri": "https://localhost:8080/"
        },
        "id": "D4CYpVBKictM",
        "outputId": "0c9b2b4d-fd4b-4eae-f725-88490f351a99"
      },
      "execution_count": 265,
      "outputs": [
        {
          "output_type": "stream",
          "name": "stdout",
          "text": [
            "Looking in indexes: https://pypi.org/simple, https://us-python.pkg.dev/colab-wheels/public/simple/\n",
            "Requirement already satisfied: category-encoders in /usr/local/lib/python3.9/dist-packages (2.6.0)\n",
            "Requirement already satisfied: statsmodels>=0.9.0 in /usr/local/lib/python3.9/dist-packages (from category-encoders) (0.13.5)\n",
            "Requirement already satisfied: pandas>=1.0.5 in /usr/local/lib/python3.9/dist-packages (from category-encoders) (1.5.3)\n",
            "Requirement already satisfied: patsy>=0.5.1 in /usr/local/lib/python3.9/dist-packages (from category-encoders) (0.5.3)\n",
            "Requirement already satisfied: scipy>=1.0.0 in /usr/local/lib/python3.9/dist-packages (from category-encoders) (1.10.1)\n",
            "Requirement already satisfied: scikit-learn>=0.20.0 in /usr/local/lib/python3.9/dist-packages (from category-encoders) (1.2.2)\n",
            "Requirement already satisfied: numpy>=1.14.0 in /usr/local/lib/python3.9/dist-packages (from category-encoders) (1.22.4)\n",
            "Requirement already satisfied: python-dateutil>=2.8.1 in /usr/local/lib/python3.9/dist-packages (from pandas>=1.0.5->category-encoders) (2.8.2)\n",
            "Requirement already satisfied: pytz>=2020.1 in /usr/local/lib/python3.9/dist-packages (from pandas>=1.0.5->category-encoders) (2022.7.1)\n",
            "Requirement already satisfied: six in /usr/local/lib/python3.9/dist-packages (from patsy>=0.5.1->category-encoders) (1.16.0)\n",
            "Requirement already satisfied: threadpoolctl>=2.0.0 in /usr/local/lib/python3.9/dist-packages (from scikit-learn>=0.20.0->category-encoders) (3.1.0)\n",
            "Requirement already satisfied: joblib>=1.1.1 in /usr/local/lib/python3.9/dist-packages (from scikit-learn>=0.20.0->category-encoders) (1.2.0)\n",
            "Requirement already satisfied: packaging>=21.3 in /usr/local/lib/python3.9/dist-packages (from statsmodels>=0.9.0->category-encoders) (23.1)\n"
          ]
        }
      ]
    },
    {
      "cell_type": "code",
      "source": [
        "# Carregar o modelo a partir do arquivo pickle\n",
        "modelo = pickle.load(open('/content/gdrive/MyDrive/Colab Notebooks/Datarisk/model/melhor_modelo.pickle', 'rb'))\n"
      ],
      "metadata": {
        "id": "P_e6G_JSh_bj"
      },
      "execution_count": 266,
      "outputs": []
    },
    {
      "cell_type": "code",
      "source": [
        "test = test.drop(columns={'CEP_2_DIG', 'DDD', 'VALOR_A_PAGAR'})"
      ],
      "metadata": {
        "id": "_Y3QDW4Wu1lH"
      },
      "execution_count": 267,
      "outputs": []
    },
    {
      "cell_type": "code",
      "source": [
        "test['PRAZO'] = test['PRAZO'].astype('int')"
      ],
      "metadata": {
        "id": "sMiINJMG0aaa"
      },
      "execution_count": 268,
      "outputs": []
    },
    {
      "cell_type": "code",
      "source": [
        "test.columns"
      ],
      "metadata": {
        "colab": {
          "base_uri": "https://localhost:8080/"
        },
        "id": "OiG5M3QFvlhV",
        "outputId": "7b7ae4be-6dbc-49ee-a14a-e3c181a37726"
      },
      "execution_count": 269,
      "outputs": [
        {
          "output_type": "execute_result",
          "data": {
            "text/plain": [
              "Index(['ID_CLIENTE', 'SAFRA_REF', 'TAXA', 'FLAG_PF', 'SEGMENTO_INDUSTRIAL',\n",
              "       'DOMINIO_EMAIL', 'PORTE', 'RENDA_MES_ANTERIOR', 'NO_FUNCIONARIOS',\n",
              "       'PRAZO', 'ZONA_POSTAL', 'LIFETIME_CLIENTE_DIAS',\n",
              "       'MES_EMISSAO_DOCUMENTO', 'MES_VENCIMENTO', 'MES_CADASTRO',\n",
              "       'MES_SAFRA_REF', 'DIASEMANA_EMISSAO', 'DIASEMANA_VENCIMENTO',\n",
              "       'DIASEMANA_CADASTRO', 'DIASEMANA_SAFRA_REF', 'ANO_EMISSAO_DOCUMENTO',\n",
              "       'ANO_VENCIMENTO', 'ANO_CADASTRO', 'ANO_SAFRA_REF'],\n",
              "      dtype='object')"
            ]
          },
          "metadata": {},
          "execution_count": 269
        }
      ]
    },
    {
      "cell_type": "code",
      "source": [
        "test['RENDA_MES_ANTERIOR'] = test['RENDA_MES_ANTERIOR'].fillna(0)\n",
        "test['NO_FUNCIONARIOS'] = test['NO_FUNCIONARIOS'].fillna(0)"
      ],
      "metadata": {
        "id": "orJNSzEd0meD"
      },
      "execution_count": 270,
      "outputs": []
    },
    {
      "cell_type": "code",
      "source": [
        "test.info()"
      ],
      "metadata": {
        "colab": {
          "base_uri": "https://localhost:8080/"
        },
        "id": "kD2mYQvA0PTB",
        "outputId": "f61f38ad-08e4-4244-d09d-0817105d5aaf"
      },
      "execution_count": 271,
      "outputs": [
        {
          "output_type": "stream",
          "name": "stdout",
          "text": [
            "<class 'pandas.core.frame.DataFrame'>\n",
            "Int64Index: 12236 entries, 0 to 12274\n",
            "Data columns (total 24 columns):\n",
            " #   Column                 Non-Null Count  Dtype         \n",
            "---  ------                 --------------  -----         \n",
            " 0   ID_CLIENTE             12236 non-null  int64         \n",
            " 1   SAFRA_REF              12236 non-null  datetime64[ns]\n",
            " 2   TAXA                   12236 non-null  float64       \n",
            " 3   FLAG_PF                12236 non-null  object        \n",
            " 4   SEGMENTO_INDUSTRIAL    12236 non-null  object        \n",
            " 5   DOMINIO_EMAIL          12236 non-null  object        \n",
            " 6   PORTE                  12236 non-null  object        \n",
            " 7   RENDA_MES_ANTERIOR     12236 non-null  float64       \n",
            " 8   NO_FUNCIONARIOS        12236 non-null  float64       \n",
            " 9   PRAZO                  12236 non-null  int64         \n",
            " 10  ZONA_POSTAL            12236 non-null  object        \n",
            " 11  LIFETIME_CLIENTE_DIAS  12236 non-null  int64         \n",
            " 12  MES_EMISSAO_DOCUMENTO  12236 non-null  int64         \n",
            " 13  MES_VENCIMENTO         12236 non-null  int64         \n",
            " 14  MES_CADASTRO           12236 non-null  int64         \n",
            " 15  MES_SAFRA_REF          12236 non-null  int64         \n",
            " 16  DIASEMANA_EMISSAO      12236 non-null  object        \n",
            " 17  DIASEMANA_VENCIMENTO   12236 non-null  object        \n",
            " 18  DIASEMANA_CADASTRO     12236 non-null  object        \n",
            " 19  DIASEMANA_SAFRA_REF    12236 non-null  object        \n",
            " 20  ANO_EMISSAO_DOCUMENTO  12236 non-null  int64         \n",
            " 21  ANO_VENCIMENTO         12236 non-null  int64         \n",
            " 22  ANO_CADASTRO           12236 non-null  int64         \n",
            " 23  ANO_SAFRA_REF          12236 non-null  int64         \n",
            "dtypes: datetime64[ns](1), float64(3), int64(11), object(9)\n",
            "memory usage: 2.3+ MB\n"
          ]
        }
      ]
    },
    {
      "cell_type": "code",
      "source": [
        "prever = modelo.predict(test)"
      ],
      "metadata": {
        "id": "pgMa6Md1ucio"
      },
      "execution_count": 272,
      "outputs": []
    },
    {
      "cell_type": "code",
      "source": [
        "probs = modelo.predict_proba(test)\n",
        "\n",
        "print(probs)"
      ],
      "metadata": {
        "colab": {
          "base_uri": "https://localhost:8080/"
        },
        "id": "ri1EVT6k6uvd",
        "outputId": "ee28fa56-01c6-4a05-a54c-7faf21cb2ea7"
      },
      "execution_count": 273,
      "outputs": [
        {
          "output_type": "stream",
          "name": "stdout",
          "text": [
            "[[0.81414963 0.18585037]\n",
            " [0.88914526 0.11085474]\n",
            " [0.8550115  0.1449885 ]\n",
            " ...\n",
            " [0.67795274 0.32204726]\n",
            " [0.66934566 0.33065434]\n",
            " [0.66990291 0.33009709]]\n"
          ]
        }
      ]
    },
    {
      "cell_type": "code",
      "source": [
        "test['INADIMPLENTE'] = probs[:,1]\n",
        "test = test[['ID_CLIENTE','SAFRA_REF','INADIMPLENTE']]"
      ],
      "metadata": {
        "id": "M2aIbwciusIi"
      },
      "execution_count": 274,
      "outputs": []
    },
    {
      "cell_type": "code",
      "source": [
        "test"
      ],
      "metadata": {
        "colab": {
          "base_uri": "https://localhost:8080/",
          "height": 424
        },
        "id": "c6EvrbQW0wWM",
        "outputId": "2db26ed4-bf31-4c3a-f00a-490729e92e94"
      },
      "execution_count": 275,
      "outputs": [
        {
          "output_type": "execute_result",
          "data": {
            "text/plain": [
              "                ID_CLIENTE  SAFRA_REF  INADIMPLENTE\n",
              "0      5058298901476893676 2021-07-01      0.185850\n",
              "1       274692171162531764 2021-07-01      0.110855\n",
              "2       274692171162531764 2021-07-01      0.144988\n",
              "3       274692171162531764 2021-07-01      0.113355\n",
              "4       465309249432033993 2021-07-01      0.322010\n",
              "...                    ...        ...           ...\n",
              "12270   705648002974742140 2021-11-01      0.452671\n",
              "12271  4993499380140734678 2021-11-01      0.119389\n",
              "12272  4614484019183480654 2021-11-01      0.322047\n",
              "12273  1299146298565441811 2021-11-01      0.330654\n",
              "12274  4061297388883391410 2021-11-01      0.330097\n",
              "\n",
              "[12236 rows x 3 columns]"
            ],
            "text/html": [
              "\n",
              "  <div id=\"df-9f336b77-11ad-40e3-940a-c4d15ac0cf91\">\n",
              "    <div class=\"colab-df-container\">\n",
              "      <div>\n",
              "<style scoped>\n",
              "    .dataframe tbody tr th:only-of-type {\n",
              "        vertical-align: middle;\n",
              "    }\n",
              "\n",
              "    .dataframe tbody tr th {\n",
              "        vertical-align: top;\n",
              "    }\n",
              "\n",
              "    .dataframe thead th {\n",
              "        text-align: right;\n",
              "    }\n",
              "</style>\n",
              "<table border=\"1\" class=\"dataframe\">\n",
              "  <thead>\n",
              "    <tr style=\"text-align: right;\">\n",
              "      <th></th>\n",
              "      <th>ID_CLIENTE</th>\n",
              "      <th>SAFRA_REF</th>\n",
              "      <th>INADIMPLENTE</th>\n",
              "    </tr>\n",
              "  </thead>\n",
              "  <tbody>\n",
              "    <tr>\n",
              "      <th>0</th>\n",
              "      <td>5058298901476893676</td>\n",
              "      <td>2021-07-01</td>\n",
              "      <td>0.185850</td>\n",
              "    </tr>\n",
              "    <tr>\n",
              "      <th>1</th>\n",
              "      <td>274692171162531764</td>\n",
              "      <td>2021-07-01</td>\n",
              "      <td>0.110855</td>\n",
              "    </tr>\n",
              "    <tr>\n",
              "      <th>2</th>\n",
              "      <td>274692171162531764</td>\n",
              "      <td>2021-07-01</td>\n",
              "      <td>0.144988</td>\n",
              "    </tr>\n",
              "    <tr>\n",
              "      <th>3</th>\n",
              "      <td>274692171162531764</td>\n",
              "      <td>2021-07-01</td>\n",
              "      <td>0.113355</td>\n",
              "    </tr>\n",
              "    <tr>\n",
              "      <th>4</th>\n",
              "      <td>465309249432033993</td>\n",
              "      <td>2021-07-01</td>\n",
              "      <td>0.322010</td>\n",
              "    </tr>\n",
              "    <tr>\n",
              "      <th>...</th>\n",
              "      <td>...</td>\n",
              "      <td>...</td>\n",
              "      <td>...</td>\n",
              "    </tr>\n",
              "    <tr>\n",
              "      <th>12270</th>\n",
              "      <td>705648002974742140</td>\n",
              "      <td>2021-11-01</td>\n",
              "      <td>0.452671</td>\n",
              "    </tr>\n",
              "    <tr>\n",
              "      <th>12271</th>\n",
              "      <td>4993499380140734678</td>\n",
              "      <td>2021-11-01</td>\n",
              "      <td>0.119389</td>\n",
              "    </tr>\n",
              "    <tr>\n",
              "      <th>12272</th>\n",
              "      <td>4614484019183480654</td>\n",
              "      <td>2021-11-01</td>\n",
              "      <td>0.322047</td>\n",
              "    </tr>\n",
              "    <tr>\n",
              "      <th>12273</th>\n",
              "      <td>1299146298565441811</td>\n",
              "      <td>2021-11-01</td>\n",
              "      <td>0.330654</td>\n",
              "    </tr>\n",
              "    <tr>\n",
              "      <th>12274</th>\n",
              "      <td>4061297388883391410</td>\n",
              "      <td>2021-11-01</td>\n",
              "      <td>0.330097</td>\n",
              "    </tr>\n",
              "  </tbody>\n",
              "</table>\n",
              "<p>12236 rows × 3 columns</p>\n",
              "</div>\n",
              "      <button class=\"colab-df-convert\" onclick=\"convertToInteractive('df-9f336b77-11ad-40e3-940a-c4d15ac0cf91')\"\n",
              "              title=\"Convert this dataframe to an interactive table.\"\n",
              "              style=\"display:none;\">\n",
              "        \n",
              "  <svg xmlns=\"http://www.w3.org/2000/svg\" height=\"24px\"viewBox=\"0 0 24 24\"\n",
              "       width=\"24px\">\n",
              "    <path d=\"M0 0h24v24H0V0z\" fill=\"none\"/>\n",
              "    <path d=\"M18.56 5.44l.94 2.06.94-2.06 2.06-.94-2.06-.94-.94-2.06-.94 2.06-2.06.94zm-11 1L8.5 8.5l.94-2.06 2.06-.94-2.06-.94L8.5 2.5l-.94 2.06-2.06.94zm10 10l.94 2.06.94-2.06 2.06-.94-2.06-.94-.94-2.06-.94 2.06-2.06.94z\"/><path d=\"M17.41 7.96l-1.37-1.37c-.4-.4-.92-.59-1.43-.59-.52 0-1.04.2-1.43.59L10.3 9.45l-7.72 7.72c-.78.78-.78 2.05 0 2.83L4 21.41c.39.39.9.59 1.41.59.51 0 1.02-.2 1.41-.59l7.78-7.78 2.81-2.81c.8-.78.8-2.07 0-2.86zM5.41 20L4 18.59l7.72-7.72 1.47 1.35L5.41 20z\"/>\n",
              "  </svg>\n",
              "      </button>\n",
              "      \n",
              "  <style>\n",
              "    .colab-df-container {\n",
              "      display:flex;\n",
              "      flex-wrap:wrap;\n",
              "      gap: 12px;\n",
              "    }\n",
              "\n",
              "    .colab-df-convert {\n",
              "      background-color: #E8F0FE;\n",
              "      border: none;\n",
              "      border-radius: 50%;\n",
              "      cursor: pointer;\n",
              "      display: none;\n",
              "      fill: #1967D2;\n",
              "      height: 32px;\n",
              "      padding: 0 0 0 0;\n",
              "      width: 32px;\n",
              "    }\n",
              "\n",
              "    .colab-df-convert:hover {\n",
              "      background-color: #E2EBFA;\n",
              "      box-shadow: 0px 1px 2px rgba(60, 64, 67, 0.3), 0px 1px 3px 1px rgba(60, 64, 67, 0.15);\n",
              "      fill: #174EA6;\n",
              "    }\n",
              "\n",
              "    [theme=dark] .colab-df-convert {\n",
              "      background-color: #3B4455;\n",
              "      fill: #D2E3FC;\n",
              "    }\n",
              "\n",
              "    [theme=dark] .colab-df-convert:hover {\n",
              "      background-color: #434B5C;\n",
              "      box-shadow: 0px 1px 3px 1px rgba(0, 0, 0, 0.15);\n",
              "      filter: drop-shadow(0px 1px 2px rgba(0, 0, 0, 0.3));\n",
              "      fill: #FFFFFF;\n",
              "    }\n",
              "  </style>\n",
              "\n",
              "      <script>\n",
              "        const buttonEl =\n",
              "          document.querySelector('#df-9f336b77-11ad-40e3-940a-c4d15ac0cf91 button.colab-df-convert');\n",
              "        buttonEl.style.display =\n",
              "          google.colab.kernel.accessAllowed ? 'block' : 'none';\n",
              "\n",
              "        async function convertToInteractive(key) {\n",
              "          const element = document.querySelector('#df-9f336b77-11ad-40e3-940a-c4d15ac0cf91');\n",
              "          const dataTable =\n",
              "            await google.colab.kernel.invokeFunction('convertToInteractive',\n",
              "                                                     [key], {});\n",
              "          if (!dataTable) return;\n",
              "\n",
              "          const docLinkHtml = 'Like what you see? Visit the ' +\n",
              "            '<a target=\"_blank\" href=https://colab.research.google.com/notebooks/data_table.ipynb>data table notebook</a>'\n",
              "            + ' to learn more about interactive tables.';\n",
              "          element.innerHTML = '';\n",
              "          dataTable['output_type'] = 'display_data';\n",
              "          await google.colab.output.renderOutput(dataTable, element);\n",
              "          const docLink = document.createElement('div');\n",
              "          docLink.innerHTML = docLinkHtml;\n",
              "          element.appendChild(docLink);\n",
              "        }\n",
              "      </script>\n",
              "    </div>\n",
              "  </div>\n",
              "  "
            ]
          },
          "metadata": {},
          "execution_count": 275
        }
      ]
    },
    {
      "cell_type": "code",
      "source": [
        "test.to_csv('previsoes.csv', index=False)"
      ],
      "metadata": {
        "id": "yBa80gSf8vPj"
      },
      "execution_count": 276,
      "outputs": []
    },
    {
      "cell_type": "code",
      "source": [],
      "metadata": {
        "id": "asvGPehlCTOh"
      },
      "execution_count": null,
      "outputs": []
    }
  ]
}